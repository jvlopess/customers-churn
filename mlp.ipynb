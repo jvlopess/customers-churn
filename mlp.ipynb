{
 "cells": [
  {
   "cell_type": "code",
   "execution_count": 1,
   "metadata": {},
   "outputs": [
    {
     "name": "stderr",
     "output_type": "stream",
     "text": [
      "2025-03-21 02:18:29.462954: E external/local_xla/xla/stream_executor/cuda/cuda_fft.cc:477] Unable to register cuFFT factory: Attempting to register factory for plugin cuFFT when one has already been registered\n",
      "WARNING: All log messages before absl::InitializeLog() is called are written to STDERR\n",
      "E0000 00:00:1742534309.986970   61730 cuda_dnn.cc:8310] Unable to register cuDNN factory: Attempting to register factory for plugin cuDNN when one has already been registered\n",
      "E0000 00:00:1742534310.287971   61730 cuda_blas.cc:1418] Unable to register cuBLAS factory: Attempting to register factory for plugin cuBLAS when one has already been registered\n",
      "2025-03-21 02:18:32.011573: I tensorflow/core/platform/cpu_feature_guard.cc:210] This TensorFlow binary is optimized to use available CPU instructions in performance-critical operations.\n",
      "To enable the following instructions: AVX2 FMA, in other operations, rebuild TensorFlow with the appropriate compiler flags.\n"
     ]
    }
   ],
   "source": [
    "import os\n",
    "import numpy as np\n",
    "import pandas as pd\n",
    "import matplotlib.pyplot as plt\n",
    "import tensorflow as tf\n",
    "import optuna\n",
    "from tensorflow.keras.models import Sequential\n",
    "from tensorflow.keras.layers import Dense, Dropout, Input\n",
    "from tensorflow.keras.optimizers import Adam\n",
    "from sklearn.metrics import (\n",
    "    confusion_matrix, precision_score, recall_score, \n",
    "    f1_score, roc_auc_score, mean_squared_error, roc_curve\n",
    ")\n",
    "from scipy.stats import ks_2samp\n",
    "from imblearn.over_sampling import RandomOverSampler"
   ]
  },
  {
   "cell_type": "code",
   "execution_count": 2,
   "metadata": {},
   "outputs": [
    {
     "name": "stdout",
     "output_type": "stream",
     "text": [
      "\n",
      "===== FOLD 1 =====\n"
     ]
    },
    {
     "name": "stderr",
     "output_type": "stream",
     "text": [
      "[I 2025-03-21 02:18:59,717] A new study created in memory with name: no-name-e05848a5-f40e-4524-bede-23c2edbc8dc1\n",
      "2025-03-21 02:18:59.750159: E external/local_xla/xla/stream_executor/cuda/cuda_driver.cc:152] failed call to cuInit: INTERNAL: CUDA error: Failed call to cuInit: UNKNOWN ERROR (303)\n"
     ]
    },
    {
     "name": "stdout",
     "output_type": "stream",
     "text": [
      "\u001b[1m74/74\u001b[0m \u001b[32m━━━━━━━━━━━━━━━━━━━━\u001b[0m\u001b[37m\u001b[0m \u001b[1m0s\u001b[0m 2ms/step\n"
     ]
    },
    {
     "name": "stderr",
     "output_type": "stream",
     "text": [
      "[I 2025-03-21 02:19:07,494] Trial 0 finished with value: 0.5176417223565881 and parameters: {'units_layer1': 64, 'units_layer2': 16, 'dropout_rate': 0.391169175676358, 'learning_rate': 0.006469988104052993}. Best is trial 0 with value: 0.5176417223565881.\n"
     ]
    },
    {
     "name": "stdout",
     "output_type": "stream",
     "text": [
      "\u001b[1m74/74\u001b[0m \u001b[32m━━━━━━━━━━━━━━━━━━━━\u001b[0m\u001b[37m\u001b[0m \u001b[1m0s\u001b[0m 2ms/step\n"
     ]
    },
    {
     "name": "stderr",
     "output_type": "stream",
     "text": [
      "[I 2025-03-21 02:19:13,917] Trial 1 finished with value: 0.5036912363438029 and parameters: {'units_layer1': 64, 'units_layer2': 16, 'dropout_rate': 0.21657570313901106, 'learning_rate': 0.00408694031954136}. Best is trial 0 with value: 0.5176417223565881.\n"
     ]
    },
    {
     "name": "stdout",
     "output_type": "stream",
     "text": [
      "\u001b[1m74/74\u001b[0m \u001b[32m━━━━━━━━━━━━━━━━━━━━\u001b[0m\u001b[37m\u001b[0m \u001b[1m0s\u001b[0m 2ms/step\n"
     ]
    },
    {
     "name": "stderr",
     "output_type": "stream",
     "text": [
      "[I 2025-03-21 02:19:20,544] Trial 2 finished with value: 0.5204588151682267 and parameters: {'units_layer1': 64, 'units_layer2': 48, 'dropout_rate': 0.3111910323591483, 'learning_rate': 0.0021795387515462328}. Best is trial 2 with value: 0.5204588151682267.\n"
     ]
    },
    {
     "name": "stdout",
     "output_type": "stream",
     "text": [
      "\u001b[1m74/74\u001b[0m \u001b[32m━━━━━━━━━━━━━━━━━━━━\u001b[0m\u001b[37m\u001b[0m \u001b[1m0s\u001b[0m 2ms/step\n"
     ]
    },
    {
     "name": "stderr",
     "output_type": "stream",
     "text": [
      "[I 2025-03-21 02:19:29,183] Trial 3 finished with value: 0.5289128482571305 and parameters: {'units_layer1': 32, 'units_layer2': 16, 'dropout_rate': 0.48796508732664007, 'learning_rate': 0.00014502334618306297}. Best is trial 3 with value: 0.5289128482571305.\n"
     ]
    },
    {
     "name": "stdout",
     "output_type": "stream",
     "text": [
      "\u001b[1m74/74\u001b[0m \u001b[32m━━━━━━━━━━━━━━━━━━━━\u001b[0m\u001b[37m\u001b[0m \u001b[1m0s\u001b[0m 2ms/step  \n"
     ]
    },
    {
     "name": "stderr",
     "output_type": "stream",
     "text": [
      "[I 2025-03-21 02:19:36,291] Trial 4 finished with value: 0.49913503864779546 and parameters: {'units_layer1': 112, 'units_layer2': 48, 'dropout_rate': 0.30389659010494774, 'learning_rate': 0.0025455643521245163}. Best is trial 3 with value: 0.5289128482571305.\n"
     ]
    },
    {
     "name": "stdout",
     "output_type": "stream",
     "text": [
      "\u001b[1m74/74\u001b[0m \u001b[32m━━━━━━━━━━━━━━━━━━━━\u001b[0m\u001b[37m\u001b[0m \u001b[1m0s\u001b[0m 2ms/step\n"
     ]
    },
    {
     "name": "stderr",
     "output_type": "stream",
     "text": [
      "[I 2025-03-21 02:19:43,568] Trial 5 finished with value: 0.5228957657295333 and parameters: {'units_layer1': 64, 'units_layer2': 48, 'dropout_rate': 0.4030390743301635, 'learning_rate': 0.0003398597449963292}. Best is trial 3 with value: 0.5289128482571305.\n"
     ]
    },
    {
     "name": "stdout",
     "output_type": "stream",
     "text": [
      "\u001b[1m74/74\u001b[0m \u001b[32m━━━━━━━━━━━━━━━━━━━━\u001b[0m\u001b[37m\u001b[0m \u001b[1m0s\u001b[0m 1ms/step  \n"
     ]
    },
    {
     "name": "stderr",
     "output_type": "stream",
     "text": [
      "[I 2025-03-21 02:19:49,977] Trial 6 finished with value: 0.5044203014326037 and parameters: {'units_layer1': 48, 'units_layer2': 48, 'dropout_rate': 0.4658569320315736, 'learning_rate': 0.00583671531944281}. Best is trial 3 with value: 0.5289128482571305.\n"
     ]
    },
    {
     "name": "stdout",
     "output_type": "stream",
     "text": [
      "\u001b[1m74/74\u001b[0m \u001b[32m━━━━━━━━━━━━━━━━━━━━\u001b[0m\u001b[37m\u001b[0m \u001b[1m0s\u001b[0m 1ms/step  \n"
     ]
    },
    {
     "name": "stderr",
     "output_type": "stream",
     "text": [
      "[I 2025-03-21 02:19:56,236] Trial 7 finished with value: 0.5261738039751493 and parameters: {'units_layer1': 64, 'units_layer2': 16, 'dropout_rate': 0.3002306399024548, 'learning_rate': 0.00045533771570506975}. Best is trial 3 with value: 0.5289128482571305.\n"
     ]
    },
    {
     "name": "stdout",
     "output_type": "stream",
     "text": [
      "\u001b[1m74/74\u001b[0m \u001b[32m━━━━━━━━━━━━━━━━━━━━\u001b[0m\u001b[37m\u001b[0m \u001b[1m0s\u001b[0m 1ms/step  \n"
     ]
    },
    {
     "name": "stderr",
     "output_type": "stream",
     "text": [
      "[I 2025-03-21 02:20:02,743] Trial 8 finished with value: 0.49352931778239334 and parameters: {'units_layer1': 96, 'units_layer2': 32, 'dropout_rate': 0.24438125993800852, 'learning_rate': 0.001667346970236389}. Best is trial 3 with value: 0.5289128482571305.\n"
     ]
    },
    {
     "name": "stdout",
     "output_type": "stream",
     "text": [
      "\u001b[1m74/74\u001b[0m \u001b[32m━━━━━━━━━━━━━━━━━━━━\u001b[0m\u001b[37m\u001b[0m \u001b[1m0s\u001b[0m 1ms/step  \n"
     ]
    },
    {
     "name": "stderr",
     "output_type": "stream",
     "text": [
      "[I 2025-03-21 02:20:09,614] Trial 9 finished with value: 0.5086486953040495 and parameters: {'units_layer1': 64, 'units_layer2': 32, 'dropout_rate': 0.4841231351858206, 'learning_rate': 0.0014895758248177763}. Best is trial 3 with value: 0.5289128482571305.\n"
     ]
    },
    {
     "name": "stdout",
     "output_type": "stream",
     "text": [
      "\u001b[1m74/74\u001b[0m \u001b[32m━━━━━━━━━━━━━━━━━━━━\u001b[0m\u001b[37m\u001b[0m \u001b[1m1s\u001b[0m 6ms/step\n"
     ]
    },
    {
     "name": "stderr",
     "output_type": "stream",
     "text": [
      "[I 2025-03-21 02:20:28,703] Trial 10 finished with value: 0.5193183884172309 and parameters: {'units_layer1': 32, 'units_layer2': 64, 'dropout_rate': 0.43271894386709514, 'learning_rate': 0.00010591423236955123}. Best is trial 3 with value: 0.5289128482571305.\n"
     ]
    },
    {
     "name": "stdout",
     "output_type": "stream",
     "text": [
      "\u001b[1m74/74\u001b[0m \u001b[32m━━━━━━━━━━━━━━━━━━━━\u001b[0m\u001b[37m\u001b[0m \u001b[1m0s\u001b[0m 1ms/step  \n"
     ]
    },
    {
     "name": "stderr",
     "output_type": "stream",
     "text": [
      "[I 2025-03-21 02:20:36,039] Trial 11 finished with value: 0.5377470235963661 and parameters: {'units_layer1': 32, 'units_layer2': 16, 'dropout_rate': 0.3408547760545311, 'learning_rate': 0.00040082125867642787}. Best is trial 11 with value: 0.5377470235963661.\n"
     ]
    },
    {
     "name": "stdout",
     "output_type": "stream",
     "text": [
      "\u001b[1m74/74\u001b[0m \u001b[32m━━━━━━━━━━━━━━━━━━━━\u001b[0m\u001b[37m\u001b[0m \u001b[1m0s\u001b[0m 1ms/step  \n"
     ]
    },
    {
     "name": "stderr",
     "output_type": "stream",
     "text": [
      "[I 2025-03-21 02:20:41,985] Trial 12 finished with value: 0.5241509697300255 and parameters: {'units_layer1': 32, 'units_layer2': 16, 'dropout_rate': 0.3567233455579531, 'learning_rate': 0.00010430389487430925}. Best is trial 11 with value: 0.5377470235963661.\n"
     ]
    },
    {
     "name": "stdout",
     "output_type": "stream",
     "text": [
      "\u001b[1m74/74\u001b[0m \u001b[32m━━━━━━━━━━━━━━━━━━━━\u001b[0m\u001b[37m\u001b[0m \u001b[1m0s\u001b[0m 1ms/step  \n"
     ]
    },
    {
     "name": "stderr",
     "output_type": "stream",
     "text": [
      "[I 2025-03-21 02:20:47,987] Trial 13 finished with value: 0.535070418138111 and parameters: {'units_layer1': 32, 'units_layer2': 32, 'dropout_rate': 0.3503649116495257, 'learning_rate': 0.0002820489302500351}. Best is trial 11 with value: 0.5377470235963661.\n"
     ]
    },
    {
     "name": "stdout",
     "output_type": "stream",
     "text": [
      "\u001b[1m74/74\u001b[0m \u001b[32m━━━━━━━━━━━━━━━━━━━━\u001b[0m\u001b[37m\u001b[0m \u001b[1m0s\u001b[0m 1ms/step  \n"
     ]
    },
    {
     "name": "stderr",
     "output_type": "stream",
     "text": [
      "[I 2025-03-21 02:20:53,061] Trial 14 finished with value: 0.5195240692483284 and parameters: {'units_layer1': 128, 'units_layer2': 32, 'dropout_rate': 0.3564640816485914, 'learning_rate': 0.0005849339893815389}. Best is trial 11 with value: 0.5377470235963661.\n"
     ]
    },
    {
     "name": "stdout",
     "output_type": "stream",
     "text": [
      "\u001b[1m74/74\u001b[0m \u001b[32m━━━━━━━━━━━━━━━━━━━━\u001b[0m\u001b[37m\u001b[0m \u001b[1m0s\u001b[0m 1ms/step  \n"
     ]
    },
    {
     "name": "stderr",
     "output_type": "stream",
     "text": [
      "[I 2025-03-21 02:20:58,082] Trial 15 finished with value: 0.534693030541767 and parameters: {'units_layer1': 48, 'units_layer2': 32, 'dropout_rate': 0.25725123820675433, 'learning_rate': 0.00023463498015175731}. Best is trial 11 with value: 0.5377470235963661.\n"
     ]
    },
    {
     "name": "stdout",
     "output_type": "stream",
     "text": [
      "\u001b[1m74/74\u001b[0m \u001b[32m━━━━━━━━━━━━━━━━━━━━\u001b[0m\u001b[37m\u001b[0m \u001b[1m0s\u001b[0m 2ms/step\n"
     ]
    },
    {
     "name": "stderr",
     "output_type": "stream",
     "text": [
      "[I 2025-03-21 02:21:04,355] Trial 16 finished with value: 0.515472891450105 and parameters: {'units_layer1': 96, 'units_layer2': 32, 'dropout_rate': 0.3297339265339399, 'learning_rate': 0.0007792106836505362}. Best is trial 11 with value: 0.5377470235963661.\n"
     ]
    },
    {
     "name": "stdout",
     "output_type": "stream",
     "text": [
      "\u001b[1m74/74\u001b[0m \u001b[32m━━━━━━━━━━━━━━━━━━━━\u001b[0m\u001b[37m\u001b[0m \u001b[1m0s\u001b[0m 2ms/step\n"
     ]
    },
    {
     "name": "stderr",
     "output_type": "stream",
     "text": [
      "[I 2025-03-21 02:21:11,247] Trial 17 finished with value: 0.5441782224401459 and parameters: {'units_layer1': 48, 'units_layer2': 64, 'dropout_rate': 0.38901007832067686, 'learning_rate': 0.00024578873571231256}. Best is trial 17 with value: 0.5441782224401459.\n"
     ]
    },
    {
     "name": "stdout",
     "output_type": "stream",
     "text": [
      "\u001b[1m74/74\u001b[0m \u001b[32m━━━━━━━━━━━━━━━━━━━━\u001b[0m\u001b[37m\u001b[0m \u001b[1m0s\u001b[0m 2ms/step\n"
     ]
    },
    {
     "name": "stderr",
     "output_type": "stream",
     "text": [
      "[I 2025-03-21 02:21:17,848] Trial 18 finished with value: 0.5384760886851669 and parameters: {'units_layer1': 48, 'units_layer2': 48, 'dropout_rate': 0.38987778899963044, 'learning_rate': 0.0001909133048890717}. Best is trial 17 with value: 0.5441782224401459.\n"
     ]
    },
    {
     "name": "stdout",
     "output_type": "stream",
     "text": [
      "\u001b[1m74/74\u001b[0m \u001b[32m━━━━━━━━━━━━━━━━━━━━\u001b[0m\u001b[37m\u001b[0m \u001b[1m0s\u001b[0m 2ms/step\n"
     ]
    },
    {
     "name": "stderr",
     "output_type": "stream",
     "text": [
      "[I 2025-03-21 02:21:24,398] Trial 19 finished with value: 0.5368462517423186 and parameters: {'units_layer1': 80, 'units_layer2': 64, 'dropout_rate': 0.4003567455916193, 'learning_rate': 0.00019237939536428616}. Best is trial 17 with value: 0.5441782224401459.\n"
     ]
    },
    {
     "name": "stdout",
     "output_type": "stream",
     "text": [
      "\u001b[1m74/74\u001b[0m \u001b[32m━━━━━━━━━━━━━━━━━━━━\u001b[0m\u001b[37m\u001b[0m \u001b[1m0s\u001b[0m 1ms/step  \n"
     ]
    },
    {
     "name": "stderr",
     "output_type": "stream",
     "text": [
      "[I 2025-03-21 02:21:30,911] Trial 20 finished with value: 0.5218857259339654 and parameters: {'units_layer1': 48, 'units_layer2': 64, 'dropout_rate': 0.43885584549525497, 'learning_rate': 0.000888126249246942}. Best is trial 17 with value: 0.5441782224401459.\n"
     ]
    },
    {
     "name": "stdout",
     "output_type": "stream",
     "text": [
      "\u001b[1m74/74\u001b[0m \u001b[32m━━━━━━━━━━━━━━━━━━━━\u001b[0m\u001b[37m\u001b[0m \u001b[1m0s\u001b[0m 2ms/step\n"
     ]
    },
    {
     "name": "stderr",
     "output_type": "stream",
     "text": [
      "[I 2025-03-21 02:21:37,820] Trial 21 finished with value: 0.5367057643889351 and parameters: {'units_layer1': 48, 'units_layer2': 64, 'dropout_rate': 0.3827896578775864, 'learning_rate': 0.00043856212874169377}. Best is trial 17 with value: 0.5441782224401459.\n"
     ]
    },
    {
     "name": "stdout",
     "output_type": "stream",
     "text": [
      "\u001b[1m74/74\u001b[0m \u001b[32m━━━━━━━━━━━━━━━━━━━━\u001b[0m\u001b[37m\u001b[0m \u001b[1m0s\u001b[0m 2ms/step\n"
     ]
    },
    {
     "name": "stderr",
     "output_type": "stream",
     "text": [
      "[I 2025-03-21 02:21:44,180] Trial 22 finished with value: 0.5310504597517506 and parameters: {'units_layer1': 48, 'units_layer2': 48, 'dropout_rate': 0.4297036101678805, 'learning_rate': 0.00017974520011640552}. Best is trial 17 with value: 0.5441782224401459.\n"
     ]
    },
    {
     "name": "stdout",
     "output_type": "stream",
     "text": [
      "\u001b[1m74/74\u001b[0m \u001b[32m━━━━━━━━━━━━━━━━━━━━\u001b[0m\u001b[37m\u001b[0m \u001b[1m0s\u001b[0m 2ms/step\n"
     ]
    },
    {
     "name": "stderr",
     "output_type": "stream",
     "text": [
      "[I 2025-03-21 02:21:51,364] Trial 23 finished with value: 0.5307042915672696 and parameters: {'units_layer1': 80, 'units_layer2': 64, 'dropout_rate': 0.37142076488691583, 'learning_rate': 0.0003150637288807707}. Best is trial 17 with value: 0.5441782224401459.\n"
     ]
    },
    {
     "name": "stdout",
     "output_type": "stream",
     "text": [
      "\u001b[1m74/74\u001b[0m \u001b[32m━━━━━━━━━━━━━━━━━━━━\u001b[0m\u001b[37m\u001b[0m \u001b[1m0s\u001b[0m 2ms/step\n"
     ]
    },
    {
     "name": "stderr",
     "output_type": "stream",
     "text": [
      "[I 2025-03-21 02:21:58,037] Trial 24 finished with value: 0.5326490772827358 and parameters: {'units_layer1': 32, 'units_layer2': 48, 'dropout_rate': 0.3288626788934293, 'learning_rate': 0.0005511091073712879}. Best is trial 17 with value: 0.5441782224401459.\n"
     ]
    },
    {
     "name": "stdout",
     "output_type": "stream",
     "text": [
      "\u001b[1m74/74\u001b[0m \u001b[32m━━━━━━━━━━━━━━━━━━━━\u001b[0m\u001b[37m\u001b[0m \u001b[1m0s\u001b[0m 2ms/step\n"
     ]
    },
    {
     "name": "stderr",
     "output_type": "stream",
     "text": [
      "[I 2025-03-21 02:22:04,619] Trial 25 finished with value: 0.53459661765219 and parameters: {'units_layer1': 48, 'units_layer2': 64, 'dropout_rate': 0.27879518309763096, 'learning_rate': 0.00017931551839109493}. Best is trial 17 with value: 0.5441782224401459.\n"
     ]
    },
    {
     "name": "stdout",
     "output_type": "stream",
     "text": [
      "\u001b[1m74/74\u001b[0m \u001b[32m━━━━━━━━━━━━━━━━━━━━\u001b[0m\u001b[37m\u001b[0m \u001b[1m0s\u001b[0m 2ms/step\n"
     ]
    },
    {
     "name": "stderr",
     "output_type": "stream",
     "text": [
      "[I 2025-03-21 02:22:11,066] Trial 26 finished with value: 0.5408818198346106 and parameters: {'units_layer1': 32, 'units_layer2': 48, 'dropout_rate': 0.416747761134624, 'learning_rate': 0.0003582144209185461}. Best is trial 17 with value: 0.5441782224401459.\n"
     ]
    },
    {
     "name": "stdout",
     "output_type": "stream",
     "text": [
      "\u001b[1m74/74\u001b[0m \u001b[32m━━━━━━━━━━━━━━━━━━━━\u001b[0m\u001b[37m\u001b[0m \u001b[1m0s\u001b[0m 2ms/step  \n"
     ]
    },
    {
     "name": "stderr",
     "output_type": "stream",
     "text": [
      "[I 2025-03-21 02:22:17,284] Trial 27 finished with value: 0.5349299307847275 and parameters: {'units_layer1': 48, 'units_layer2': 48, 'dropout_rate': 0.4178983254312637, 'learning_rate': 0.00014087462292103944}. Best is trial 17 with value: 0.5441782224401459.\n"
     ]
    },
    {
     "name": "stdout",
     "output_type": "stream",
     "text": [
      "\u001b[1m74/74\u001b[0m \u001b[32m━━━━━━━━━━━━━━━━━━━━\u001b[0m\u001b[37m\u001b[0m \u001b[1m0s\u001b[0m 2ms/step\n"
     ]
    },
    {
     "name": "stderr",
     "output_type": "stream",
     "text": [
      "[I 2025-03-21 02:22:23,262] Trial 28 finished with value: 0.5363540868964782 and parameters: {'units_layer1': 80, 'units_layer2': 48, 'dropout_rate': 0.45059287741406867, 'learning_rate': 0.0006507983019093953}. Best is trial 17 with value: 0.5441782224401459.\n"
     ]
    },
    {
     "name": "stdout",
     "output_type": "stream",
     "text": [
      "\u001b[1m74/74\u001b[0m \u001b[32m━━━━━━━━━━━━━━━━━━━━\u001b[0m\u001b[37m\u001b[0m \u001b[1m0s\u001b[0m 2ms/step\n"
     ]
    },
    {
     "name": "stderr",
     "output_type": "stream",
     "text": [
      "[I 2025-03-21 02:22:29,282] Trial 29 finished with value: 0.5237212437079112 and parameters: {'units_layer1': 32, 'units_layer2': 64, 'dropout_rate': 0.3814450662411815, 'learning_rate': 0.009929627981077839}. Best is trial 17 with value: 0.5441782224401459.\n"
     ]
    },
    {
     "name": "stdout",
     "output_type": "stream",
     "text": [
      "\u001b[1m74/74\u001b[0m \u001b[32m━━━━━━━━━━━━━━━━━━━━\u001b[0m\u001b[37m\u001b[0m \u001b[1m0s\u001b[0m 2ms/step\n"
     ]
    },
    {
     "name": "stderr",
     "output_type": "stream",
     "text": [
      "[I 2025-03-21 02:22:35,429] Trial 30 finished with value: 0.5282801960579065 and parameters: {'units_layer1': 48, 'units_layer2': 48, 'dropout_rate': 0.4093725628882768, 'learning_rate': 0.0002314554804746381}. Best is trial 17 with value: 0.5441782224401459.\n"
     ]
    },
    {
     "name": "stdout",
     "output_type": "stream",
     "text": [
      "\u001b[1m74/74\u001b[0m \u001b[32m━━━━━━━━━━━━━━━━━━━━\u001b[0m\u001b[37m\u001b[0m \u001b[1m0s\u001b[0m 2ms/step\n"
     ]
    },
    {
     "name": "stderr",
     "output_type": "stream",
     "text": [
      "[I 2025-03-21 02:22:41,554] Trial 31 finished with value: 0.53768458477264 and parameters: {'units_layer1': 32, 'units_layer2': 48, 'dropout_rate': 0.3715490986067769, 'learning_rate': 0.00035659871879468416}. Best is trial 17 with value: 0.5441782224401459.\n"
     ]
    },
    {
     "name": "stdout",
     "output_type": "stream",
     "text": [
      "\u001b[1m74/74\u001b[0m \u001b[32m━━━━━━━━━━━━━━━━━━━━\u001b[0m\u001b[37m\u001b[0m \u001b[1m0s\u001b[0m 2ms/step\n"
     ]
    },
    {
     "name": "stderr",
     "output_type": "stream",
     "text": [
      "[I 2025-03-21 02:22:48,184] Trial 32 finished with value: 0.5375413427652685 and parameters: {'units_layer1': 32, 'units_layer2': 16, 'dropout_rate': 0.39101019847228874, 'learning_rate': 0.00039926217914459385}. Best is trial 17 with value: 0.5441782224401459.\n"
     ]
    },
    {
     "name": "stdout",
     "output_type": "stream",
     "text": [
      "\u001b[1m74/74\u001b[0m \u001b[32m━━━━━━━━━━━━━━━━━━━━\u001b[0m\u001b[37m\u001b[0m \u001b[1m0s\u001b[0m 2ms/step\n"
     ]
    },
    {
     "name": "stderr",
     "output_type": "stream",
     "text": [
      "[I 2025-03-21 02:22:54,684] Trial 33 finished with value: 0.5169282669737187 and parameters: {'units_layer1': 48, 'units_layer2': 32, 'dropout_rate': 0.33193861365285904, 'learning_rate': 0.0011519767143093973}. Best is trial 17 with value: 0.5441782224401459.\n"
     ]
    },
    {
     "name": "stdout",
     "output_type": "stream",
     "text": [
      "\u001b[1m74/74\u001b[0m \u001b[32m━━━━━━━━━━━━━━━━━━━━\u001b[0m\u001b[37m\u001b[0m \u001b[1m0s\u001b[0m 2ms/step\n"
     ]
    },
    {
     "name": "stderr",
     "output_type": "stream",
     "text": [
      "[I 2025-03-21 02:23:01,929] Trial 34 finished with value: 0.52489288987077 and parameters: {'units_layer1': 32, 'units_layer2': 64, 'dropout_rate': 0.3667034463816888, 'learning_rate': 0.00025183325459145157}. Best is trial 17 with value: 0.5441782224401459.\n"
     ]
    },
    {
     "name": "stdout",
     "output_type": "stream",
     "text": [
      "\u001b[1m74/74\u001b[0m \u001b[32m━━━━━━━━━━━━━━━━━━━━\u001b[0m\u001b[37m\u001b[0m \u001b[1m0s\u001b[0m 2ms/step\n"
     ]
    },
    {
     "name": "stderr",
     "output_type": "stream",
     "text": [
      "[I 2025-03-21 02:23:08,446] Trial 35 finished with value: 0.5384292595673724 and parameters: {'units_layer1': 64, 'units_layer2': 48, 'dropout_rate': 0.4538784415153963, 'learning_rate': 0.00013617329773945824}. Best is trial 17 with value: 0.5441782224401459.\n"
     ]
    },
    {
     "name": "stdout",
     "output_type": "stream",
     "text": [
      "\u001b[1m74/74\u001b[0m \u001b[32m━━━━━━━━━━━━━━━━━━━━\u001b[0m\u001b[37m\u001b[0m \u001b[1m0s\u001b[0m 2ms/step\n"
     ]
    },
    {
     "name": "stderr",
     "output_type": "stream",
     "text": [
      "[I 2025-03-21 02:23:14,745] Trial 36 finished with value: 0.537908629963657 and parameters: {'units_layer1': 64, 'units_layer2': 48, 'dropout_rate': 0.45215407405018904, 'learning_rate': 0.00013465915127891106}. Best is trial 17 with value: 0.5441782224401459.\n"
     ]
    },
    {
     "name": "stdout",
     "output_type": "stream",
     "text": [
      "\u001b[1m74/74\u001b[0m \u001b[32m━━━━━━━━━━━━━━━━━━━━\u001b[0m\u001b[37m\u001b[0m \u001b[1m0s\u001b[0m 2ms/step\n"
     ]
    },
    {
     "name": "stderr",
     "output_type": "stream",
     "text": [
      "[I 2025-03-21 02:23:21,137] Trial 37 finished with value: 0.5352944633291279 and parameters: {'units_layer1': 64, 'units_layer2': 48, 'dropout_rate': 0.47094804789643596, 'learning_rate': 0.00013598742965622402}. Best is trial 17 with value: 0.5441782224401459.\n"
     ]
    },
    {
     "name": "stdout",
     "output_type": "stream",
     "text": [
      "\u001b[1m74/74\u001b[0m \u001b[32m━━━━━━━━━━━━━━━━━━━━\u001b[0m\u001b[37m\u001b[0m \u001b[1m0s\u001b[0m 2ms/step\n"
     ]
    },
    {
     "name": "stderr",
     "output_type": "stream",
     "text": [
      "[I 2025-03-21 02:23:27,337] Trial 38 finished with value: 0.5374320748237481 and parameters: {'units_layer1': 64, 'units_layer2': 48, 'dropout_rate': 0.4198335553017577, 'learning_rate': 0.0001946399835518596}. Best is trial 17 with value: 0.5441782224401459.\n"
     ]
    },
    {
     "name": "stdout",
     "output_type": "stream",
     "text": [
      "\u001b[1m74/74\u001b[0m \u001b[32m━━━━━━━━━━━━━━━━━━━━\u001b[0m\u001b[37m\u001b[0m \u001b[1m0s\u001b[0m 2ms/step\n"
     ]
    },
    {
     "name": "stderr",
     "output_type": "stream",
     "text": [
      "[I 2025-03-21 02:23:33,339] Trial 39 finished with value: 0.4981975380739092 and parameters: {'units_layer1': 64, 'units_layer2': 48, 'dropout_rate': 0.2005854455929192, 'learning_rate': 0.0031981198129463428}. Best is trial 17 with value: 0.5441782224401459.\n"
     ]
    },
    {
     "name": "stdout",
     "output_type": "stream",
     "text": [
      "\u001b[1m74/74\u001b[0m \u001b[32m━━━━━━━━━━━━━━━━━━━━\u001b[0m\u001b[37m\u001b[0m \u001b[1m0s\u001b[0m 2ms/step\n"
     ]
    },
    {
     "name": "stderr",
     "output_type": "stream",
     "text": [
      "[I 2025-03-21 02:23:39,822] Trial 40 finished with value: 0.5297851553533027 and parameters: {'units_layer1': 96, 'units_layer2': 64, 'dropout_rate': 0.488674589023537, 'learning_rate': 0.00010047530829181527}. Best is trial 17 with value: 0.5441782224401459.\n"
     ]
    },
    {
     "name": "stdout",
     "output_type": "stream",
     "text": [
      "\u001b[1m74/74\u001b[0m \u001b[32m━━━━━━━━━━━━━━━━━━━━\u001b[0m\u001b[37m\u001b[0m \u001b[1m0s\u001b[0m 2ms/step\n"
     ]
    },
    {
     "name": "stderr",
     "output_type": "stream",
     "text": [
      "[I 2025-03-21 02:23:45,830] Trial 41 finished with value: 0.5308291692147216 and parameters: {'units_layer1': 64, 'units_layer2': 48, 'dropout_rate': 0.455636275221072, 'learning_rate': 0.00013585215547595855}. Best is trial 17 with value: 0.5441782224401459.\n"
     ]
    },
    {
     "name": "stdout",
     "output_type": "stream",
     "text": [
      "\u001b[1m74/74\u001b[0m \u001b[32m━━━━━━━━━━━━━━━━━━━━\u001b[0m\u001b[37m\u001b[0m \u001b[1m0s\u001b[0m 2ms/step\n"
     ]
    },
    {
     "name": "stderr",
     "output_type": "stream",
     "text": [
      "[I 2025-03-21 02:23:52,175] Trial 42 finished with value: 0.5408533550767355 and parameters: {'units_layer1': 64, 'units_layer2': 48, 'dropout_rate': 0.4996836828089097, 'learning_rate': 0.0001290697368463447}. Best is trial 17 with value: 0.5441782224401459.\n"
     ]
    },
    {
     "name": "stdout",
     "output_type": "stream",
     "text": [
      "\u001b[1m74/74\u001b[0m \u001b[32m━━━━━━━━━━━━━━━━━━━━\u001b[0m\u001b[37m\u001b[0m \u001b[1m0s\u001b[0m 2ms/step\n"
     ]
    },
    {
     "name": "stderr",
     "output_type": "stream",
     "text": [
      "[I 2025-03-21 02:23:58,797] Trial 43 finished with value: 0.5389994729428703 and parameters: {'units_layer1': 80, 'units_layer2': 48, 'dropout_rate': 0.4987124489597443, 'learning_rate': 0.00016692591628139077}. Best is trial 17 with value: 0.5441782224401459.\n"
     ]
    },
    {
     "name": "stdout",
     "output_type": "stream",
     "text": [
      "\u001b[1m74/74\u001b[0m \u001b[32m━━━━━━━━━━━━━━━━━━━━\u001b[0m\u001b[37m\u001b[0m \u001b[1m0s\u001b[0m 2ms/step\n"
     ]
    },
    {
     "name": "stderr",
     "output_type": "stream",
     "text": [
      "[I 2025-03-21 02:24:05,289] Trial 44 finished with value: 0.5381299205006859 and parameters: {'units_layer1': 80, 'units_layer2': 48, 'dropout_rate': 0.4957710636571862, 'learning_rate': 0.0001726823006892877}. Best is trial 17 with value: 0.5441782224401459.\n"
     ]
    },
    {
     "name": "stdout",
     "output_type": "stream",
     "text": [
      "\u001b[1m74/74\u001b[0m \u001b[32m━━━━━━━━━━━━━━━━━━━━\u001b[0m\u001b[37m\u001b[0m \u001b[1m0s\u001b[0m 2ms/step\n"
     ]
    },
    {
     "name": "stderr",
     "output_type": "stream",
     "text": [
      "[I 2025-03-21 02:24:11,652] Trial 45 finished with value: 0.5376037815889946 and parameters: {'units_layer1': 96, 'units_layer2': 48, 'dropout_rate': 0.47144509133967943, 'learning_rate': 0.0002769348707018492}. Best is trial 17 with value: 0.5441782224401459.\n"
     ]
    },
    {
     "name": "stdout",
     "output_type": "stream",
     "text": [
      "\u001b[1m74/74\u001b[0m \u001b[32m━━━━━━━━━━━━━━━━━━━━\u001b[0m\u001b[37m\u001b[0m \u001b[1m1s\u001b[0m 11ms/step\n"
     ]
    },
    {
     "name": "stderr",
     "output_type": "stream",
     "text": [
      "[I 2025-03-21 02:24:18,687] Trial 46 finished with value: 0.5455527947801143 and parameters: {'units_layer1': 80, 'units_layer2': 32, 'dropout_rate': 0.4993946784206843, 'learning_rate': 0.00020989300227936127}. Best is trial 46 with value: 0.5455527947801143.\n"
     ]
    },
    {
     "name": "stdout",
     "output_type": "stream",
     "text": [
      "\u001b[1m74/74\u001b[0m \u001b[32m━━━━━━━━━━━━━━━━━━━━\u001b[0m\u001b[37m\u001b[0m \u001b[1m0s\u001b[0m 2ms/step\n"
     ]
    },
    {
     "name": "stderr",
     "output_type": "stream",
     "text": [
      "[I 2025-03-21 02:24:24,979] Trial 47 finished with value: 0.5326646869886673 and parameters: {'units_layer1': 80, 'units_layer2': 32, 'dropout_rate': 0.4755585330471441, 'learning_rate': 0.0003399893469546069}. Best is trial 46 with value: 0.5455527947801143.\n"
     ]
    },
    {
     "name": "stdout",
     "output_type": "stream",
     "text": [
      "\u001b[1m74/74\u001b[0m \u001b[32m━━━━━━━━━━━━━━━━━━━━\u001b[0m\u001b[37m\u001b[0m \u001b[1m0s\u001b[0m 2ms/step\n"
     ]
    },
    {
     "name": "stderr",
     "output_type": "stream",
     "text": [
      "[I 2025-03-21 02:24:31,393] Trial 48 finished with value: 0.528866019139336 and parameters: {'units_layer1': 80, 'units_layer2': 32, 'dropout_rate': 0.49966061639286846, 'learning_rate': 0.00022323048150233997}. Best is trial 46 with value: 0.5455527947801143.\n"
     ]
    },
    {
     "name": "stdout",
     "output_type": "stream",
     "text": [
      "\u001b[1m74/74\u001b[0m \u001b[32m━━━━━━━━━━━━━━━━━━━━\u001b[0m\u001b[37m\u001b[0m \u001b[1m0s\u001b[0m 2ms/step\n"
     ]
    },
    {
     "name": "stderr",
     "output_type": "stream",
     "text": [
      "[I 2025-03-21 02:24:37,853] Trial 49 finished with value: 0.5320320347894434 and parameters: {'units_layer1': 112, 'units_layer2': 32, 'dropout_rate': 0.48834458210216897, 'learning_rate': 0.0005177249730667888}. Best is trial 46 with value: 0.5455527947801143.\n"
     ]
    },
    {
     "name": "stdout",
     "output_type": "stream",
     "text": [
      "Melhores parâmetros do Optuna: {'units_layer1': 80, 'units_layer2': 32, 'dropout_rate': 0.4993946784206843, 'learning_rate': 0.00020989300227936127}\n",
      "\u001b[1m74/74\u001b[0m \u001b[32m━━━━━━━━━━━━━━━━━━━━\u001b[0m\u001b[37m\u001b[0m \u001b[1m0s\u001b[0m 2ms/step\n",
      "\n",
      "-- Métricas de Teste --\n",
      "Confusion Matrix:\n",
      "[[1278  473]\n",
      " [ 154  441]]\n",
      "Precision: 0.4825 | Recall: 0.7412 | F1: 0.5845\n",
      "AUC: 0.8290 | MSE: 0.1663 | KS: 0.4913\n"
     ]
    },
    {
     "data": {
      "image/png": "[encoded data removed]",
      "text/plain": [
       "<Figure size 640x480 with 1 Axes>"
      ]
     },
     "metadata": {},
     "output_type": "display_data"
    },
    {
     "data": {
      "image/png": "[encoded data removed]",
      "text/plain": [
       "<Figure size 800x500 with 1 Axes>"
      ]
     },
     "metadata": {},
     "output_type": "display_data"
    },
    {
     "name": "stderr",
     "output_type": "stream",
     "text": [
      "[I 2025-03-21 02:24:56,210] A new study created in memory with name: no-name-fad5eef7-3231-4e03-8a01-fab81575a003\n"
     ]
    },
    {
     "name": "stdout",
     "output_type": "stream",
     "text": [
      "KS = 0.4913 (ou 49.13%) no threshold = 0.4058\n",
      "\n",
      "===== FOLD 2 =====\n",
      "\u001b[1m74/74\u001b[0m \u001b[32m━━━━━━━━━━━━━━━━━━━━\u001b[0m\u001b[37m\u001b[0m \u001b[1m0s\u001b[0m 2ms/step\n"
     ]
    },
    {
     "name": "stderr",
     "output_type": "stream",
     "text": [
      "[I 2025-03-21 02:25:03,233] Trial 0 finished with value: 0.49294280819123765 and parameters: {'units_layer1': 112, 'units_layer2': 16, 'dropout_rate': 0.27333260915763863, 'learning_rate': 0.000548370427139828}. Best is trial 0 with value: 0.49294280819123765.\n"
     ]
    },
    {
     "name": "stdout",
     "output_type": "stream",
     "text": [
      "\u001b[1m74/74\u001b[0m \u001b[32m━━━━━━━━━━━━━━━━━━━━\u001b[0m\u001b[37m\u001b[0m \u001b[1m0s\u001b[0m 1ms/step  \n"
     ]
    },
    {
     "name": "stderr",
     "output_type": "stream",
     "text": [
      "[I 2025-03-21 02:25:10,144] Trial 1 finished with value: 0.4882924043403769 and parameters: {'units_layer1': 112, 'units_layer2': 32, 'dropout_rate': 0.37246849171047614, 'learning_rate': 0.0001514666789491304}. Best is trial 0 with value: 0.49294280819123765.\n"
     ]
    },
    {
     "name": "stdout",
     "output_type": "stream",
     "text": [
      "\u001b[1m74/74\u001b[0m \u001b[32m━━━━━━━━━━━━━━━━━━━━\u001b[0m\u001b[37m\u001b[0m \u001b[1m0s\u001b[0m 1ms/step  \n"
     ]
    },
    {
     "name": "stderr",
     "output_type": "stream",
     "text": [
      "[I 2025-03-21 02:25:16,523] Trial 2 finished with value: 0.4705066492616464 and parameters: {'units_layer1': 96, 'units_layer2': 48, 'dropout_rate': 0.483152044813315, 'learning_rate': 0.0016518886721878854}. Best is trial 0 with value: 0.49294280819123765.\n"
     ]
    },
    {
     "name": "stdout",
     "output_type": "stream",
     "text": [
      "\u001b[1m74/74\u001b[0m \u001b[32m━━━━━━━━━━━━━━━━━━━━\u001b[0m\u001b[37m\u001b[0m \u001b[1m0s\u001b[0m 1ms/step  \n"
     ]
    },
    {
     "name": "stderr",
     "output_type": "stream",
     "text": [
      "[I 2025-03-21 02:25:22,878] Trial 3 finished with value: 0.4727094721383699 and parameters: {'units_layer1': 128, 'units_layer2': 16, 'dropout_rate': 0.4758293023992588, 'learning_rate': 0.009011460854535091}. Best is trial 0 with value: 0.49294280819123765.\n"
     ]
    },
    {
     "name": "stdout",
     "output_type": "stream",
     "text": [
      "\u001b[1m74/74\u001b[0m \u001b[32m━━━━━━━━━━━━━━━━━━━━\u001b[0m\u001b[37m\u001b[0m \u001b[1m0s\u001b[0m 1ms/step  \n"
     ]
    },
    {
     "name": "stderr",
     "output_type": "stream",
     "text": [
      "[I 2025-03-21 02:25:29,122] Trial 4 finished with value: 0.4686301705148079 and parameters: {'units_layer1': 32, 'units_layer2': 16, 'dropout_rate': 0.24183962934586423, 'learning_rate': 0.009623046369418421}. Best is trial 0 with value: 0.49294280819123765.\n"
     ]
    },
    {
     "name": "stdout",
     "output_type": "stream",
     "text": [
      "\u001b[1m74/74\u001b[0m \u001b[32m━━━━━━━━━━━━━━━━━━━━\u001b[0m\u001b[37m\u001b[0m \u001b[1m0s\u001b[0m 2ms/step  \n"
     ]
    },
    {
     "name": "stderr",
     "output_type": "stream",
     "text": [
      "[I 2025-03-21 02:25:35,443] Trial 5 finished with value: 0.4626091213184303 and parameters: {'units_layer1': 128, 'units_layer2': 48, 'dropout_rate': 0.26496290093846603, 'learning_rate': 0.006221798442457584}. Best is trial 0 with value: 0.49294280819123765.\n"
     ]
    },
    {
     "name": "stdout",
     "output_type": "stream",
     "text": [
      "\u001b[1m74/74\u001b[0m \u001b[32m━━━━━━━━━━━━━━━━━━━━\u001b[0m\u001b[37m\u001b[0m \u001b[1m0s\u001b[0m 1ms/step  \n"
     ]
    },
    {
     "name": "stderr",
     "output_type": "stream",
     "text": [
      "[I 2025-03-21 02:25:41,765] Trial 6 finished with value: 0.43353185934568 and parameters: {'units_layer1': 96, 'units_layer2': 48, 'dropout_rate': 0.20899956734771855, 'learning_rate': 0.004228226831023192}. Best is trial 0 with value: 0.49294280819123765.\n"
     ]
    },
    {
     "name": "stdout",
     "output_type": "stream",
     "text": [
      "\u001b[1m74/74\u001b[0m \u001b[32m━━━━━━━━━━━━━━━━━━━━\u001b[0m\u001b[37m\u001b[0m \u001b[1m0s\u001b[0m 1ms/step  \n"
     ]
    },
    {
     "name": "stderr",
     "output_type": "stream",
     "text": [
      "[I 2025-03-21 02:25:48,092] Trial 7 finished with value: 0.4903810067716407 and parameters: {'units_layer1': 32, 'units_layer2': 16, 'dropout_rate': 0.3143645842371823, 'learning_rate': 0.00023546420257078955}. Best is trial 0 with value: 0.49294280819123765.\n"
     ]
    },
    {
     "name": "stdout",
     "output_type": "stream",
     "text": [
      "\u001b[1m74/74\u001b[0m \u001b[32m━━━━━━━━━━━━━━━━━━━━\u001b[0m\u001b[37m\u001b[0m \u001b[1m0s\u001b[0m 2ms/step\n"
     ]
    },
    {
     "name": "stderr",
     "output_type": "stream",
     "text": [
      "[I 2025-03-21 02:25:54,590] Trial 8 finished with value: 0.4998286693318104 and parameters: {'units_layer1': 32, 'units_layer2': 64, 'dropout_rate': 0.215815804690053, 'learning_rate': 0.0003250043881091108}. Best is trial 8 with value: 0.4998286693318104.\n"
     ]
    },
    {
     "name": "stdout",
     "output_type": "stream",
     "text": [
      "\u001b[1m74/74\u001b[0m \u001b[32m━━━━━━━━━━━━━━━━━━━━\u001b[0m\u001b[37m\u001b[0m \u001b[1m0s\u001b[0m 2ms/step  \n"
     ]
    },
    {
     "name": "stderr",
     "output_type": "stream",
     "text": [
      "[I 2025-03-21 02:26:01,151] Trial 9 finished with value: 0.47414538630986375 and parameters: {'units_layer1': 32, 'units_layer2': 16, 'dropout_rate': 0.43341967194599396, 'learning_rate': 0.00018068412669172945}. Best is trial 8 with value: 0.4998286693318104.\n"
     ]
    },
    {
     "name": "stdout",
     "output_type": "stream",
     "text": [
      "\u001b[1m74/74\u001b[0m \u001b[32m━━━━━━━━━━━━━━━━━━━━\u001b[0m\u001b[37m\u001b[0m \u001b[1m0s\u001b[0m 2ms/step\n"
     ]
    },
    {
     "name": "stderr",
     "output_type": "stream",
     "text": [
      "[I 2025-03-21 02:26:09,508] Trial 10 finished with value: 0.4935954964510076 and parameters: {'units_layer1': 64, 'units_layer2': 64, 'dropout_rate': 0.3683699717484549, 'learning_rate': 0.0008033468747010098}. Best is trial 8 with value: 0.4998286693318104.\n"
     ]
    },
    {
     "name": "stdout",
     "output_type": "stream",
     "text": [
      "\u001b[1m74/74\u001b[0m \u001b[32m━━━━━━━━━━━━━━━━━━━━\u001b[0m\u001b[37m\u001b[0m \u001b[1m0s\u001b[0m 2ms/step\n"
     ]
    },
    {
     "name": "stderr",
     "output_type": "stream",
     "text": [
      "[I 2025-03-21 02:26:17,411] Trial 11 finished with value: 0.48529003834543527 and parameters: {'units_layer1': 64, 'units_layer2': 64, 'dropout_rate': 0.37455871347179637, 'learning_rate': 0.0007191683725982199}. Best is trial 8 with value: 0.4998286693318104.\n"
     ]
    },
    {
     "name": "stdout",
     "output_type": "stream",
     "text": [
      "\u001b[1m74/74\u001b[0m \u001b[32m━━━━━━━━━━━━━━━━━━━━\u001b[0m\u001b[37m\u001b[0m \u001b[1m0s\u001b[0m 2ms/step\n"
     ]
    },
    {
     "name": "stderr",
     "output_type": "stream",
     "text": [
      "[I 2025-03-21 02:26:24,765] Trial 12 finished with value: 0.5048380517255446 and parameters: {'units_layer1': 64, 'units_layer2': 64, 'dropout_rate': 0.32251393480070745, 'learning_rate': 0.00036754018032290057}. Best is trial 12 with value: 0.5048380517255446.\n"
     ]
    },
    {
     "name": "stdout",
     "output_type": "stream",
     "text": [
      "\u001b[1m74/74\u001b[0m \u001b[32m━━━━━━━━━━━━━━━━━━━━\u001b[0m\u001b[37m\u001b[0m \u001b[1m0s\u001b[0m 2ms/step\n"
     ]
    },
    {
     "name": "stderr",
     "output_type": "stream",
     "text": [
      "[I 2025-03-21 02:26:31,789] Trial 13 finished with value: 0.5075793424165783 and parameters: {'units_layer1': 64, 'units_layer2': 64, 'dropout_rate': 0.308921168066404, 'learning_rate': 0.00032523248880242313}. Best is trial 13 with value: 0.5075793424165783.\n"
     ]
    },
    {
     "name": "stdout",
     "output_type": "stream",
     "text": [
      "\u001b[1m74/74\u001b[0m \u001b[32m━━━━━━━━━━━━━━━━━━━━\u001b[0m\u001b[37m\u001b[0m \u001b[1m0s\u001b[0m 2ms/step\n"
     ]
    },
    {
     "name": "stderr",
     "output_type": "stream",
     "text": [
      "[I 2025-03-21 02:26:38,755] Trial 14 finished with value: 0.47251366566043895 and parameters: {'units_layer1': 64, 'units_layer2': 64, 'dropout_rate': 0.31569355860086795, 'learning_rate': 0.0016874078249977157}. Best is trial 13 with value: 0.5075793424165783.\n"
     ]
    },
    {
     "name": "stdout",
     "output_type": "stream",
     "text": [
      "\u001b[1m74/74\u001b[0m \u001b[32m━━━━━━━━━━━━━━━━━━━━\u001b[0m\u001b[37m\u001b[0m \u001b[1m0s\u001b[0m 2ms/step  \n"
     ]
    },
    {
     "name": "stderr",
     "output_type": "stream",
     "text": [
      "[I 2025-03-21 02:26:46,058] Trial 15 finished with value: 0.4846536672921596 and parameters: {'units_layer1': 80, 'units_layer2': 32, 'dropout_rate': 0.32539236322236925, 'learning_rate': 0.00010386129187060006}. Best is trial 13 with value: 0.5075793424165783.\n"
     ]
    },
    {
     "name": "stdout",
     "output_type": "stream",
     "text": [
      "\u001b[1m74/74\u001b[0m \u001b[32m━━━━━━━━━━━━━━━━━━━━\u001b[0m\u001b[37m\u001b[0m \u001b[1m0s\u001b[0m 2ms/step\n"
     ]
    },
    {
     "name": "stderr",
     "output_type": "stream",
     "text": [
      "[I 2025-03-21 02:26:52,607] Trial 16 finished with value: 0.5138614669168639 and parameters: {'units_layer1': 48, 'units_layer2': 48, 'dropout_rate': 0.40984487180359713, 'learning_rate': 0.0003929490855706095}. Best is trial 16 with value: 0.5138614669168639.\n"
     ]
    },
    {
     "name": "stdout",
     "output_type": "stream",
     "text": [
      "\u001b[1m74/74\u001b[0m \u001b[32m━━━━━━━━━━━━━━━━━━━━\u001b[0m\u001b[37m\u001b[0m \u001b[1m0s\u001b[0m 2ms/step\n"
     ]
    },
    {
     "name": "stderr",
     "output_type": "stream",
     "text": [
      "[I 2025-03-21 02:26:59,291] Trial 17 finished with value: 0.4824671616219303 and parameters: {'units_layer1': 48, 'units_layer2': 48, 'dropout_rate': 0.41137549415702035, 'learning_rate': 0.001361488068530193}. Best is trial 16 with value: 0.5138614669168639.\n"
     ]
    },
    {
     "name": "stdout",
     "output_type": "stream",
     "text": [
      "\u001b[1m74/74\u001b[0m \u001b[32m━━━━━━━━━━━━━━━━━━━━\u001b[0m\u001b[37m\u001b[0m \u001b[1m0s\u001b[0m 2ms/step\n"
     ]
    },
    {
     "name": "stderr",
     "output_type": "stream",
     "text": [
      "[I 2025-03-21 02:27:05,973] Trial 18 finished with value: 0.508346251121808 and parameters: {'units_layer1': 48, 'units_layer2': 32, 'dropout_rate': 0.42114827494799206, 'learning_rate': 0.00046809715850002436}. Best is trial 16 with value: 0.5138614669168639.\n"
     ]
    },
    {
     "name": "stdout",
     "output_type": "stream",
     "text": [
      "\u001b[1m74/74\u001b[0m \u001b[32m━━━━━━━━━━━━━━━━━━━━\u001b[0m\u001b[37m\u001b[0m \u001b[1m0s\u001b[0m 2ms/step\n"
     ]
    },
    {
     "name": "stderr",
     "output_type": "stream",
     "text": [
      "[I 2025-03-21 02:27:12,656] Trial 19 finished with value: 0.4783552255853798 and parameters: {'units_layer1': 48, 'units_layer2': 32, 'dropout_rate': 0.4302780337145062, 'learning_rate': 0.0025055510872381767}. Best is trial 16 with value: 0.5138614669168639.\n"
     ]
    },
    {
     "name": "stdout",
     "output_type": "stream",
     "text": [
      "\u001b[1m74/74\u001b[0m \u001b[32m━━━━━━━━━━━━━━━━━━━━\u001b[0m\u001b[37m\u001b[0m \u001b[1m0s\u001b[0m 2ms/step\n"
     ]
    },
    {
     "name": "stderr",
     "output_type": "stream",
     "text": [
      "[I 2025-03-21 02:27:19,517] Trial 20 finished with value: 0.5014114383617525 and parameters: {'units_layer1': 48, 'units_layer2': 32, 'dropout_rate': 0.45681300153383814, 'learning_rate': 0.00048157190097181313}. Best is trial 16 with value: 0.5138614669168639.\n"
     ]
    },
    {
     "name": "stdout",
     "output_type": "stream",
     "text": [
      "\u001b[1m74/74\u001b[0m \u001b[32m━━━━━━━━━━━━━━━━━━━━\u001b[0m\u001b[37m\u001b[0m \u001b[1m0s\u001b[0m 2ms/step\n"
     ]
    },
    {
     "name": "stderr",
     "output_type": "stream",
     "text": [
      "[I 2025-03-21 02:27:26,228] Trial 21 finished with value: 0.505392836746349 and parameters: {'units_layer1': 48, 'units_layer2': 48, 'dropout_rate': 0.403380958560474, 'learning_rate': 0.000323374176812802}. Best is trial 16 with value: 0.5138614669168639.\n"
     ]
    },
    {
     "name": "stdout",
     "output_type": "stream",
     "text": [
      "\u001b[1m74/74\u001b[0m \u001b[32m━━━━━━━━━━━━━━━━━━━━\u001b[0m\u001b[37m\u001b[0m \u001b[1m0s\u001b[0m 2ms/step\n"
     ]
    },
    {
     "name": "stderr",
     "output_type": "stream",
     "text": [
      "[I 2025-03-21 02:27:32,763] Trial 22 finished with value: 0.49499877620951294 and parameters: {'units_layer1': 80, 'units_layer2': 32, 'dropout_rate': 0.4010301273880361, 'learning_rate': 0.0005641984503175217}. Best is trial 16 with value: 0.5138614669168639.\n"
     ]
    },
    {
     "name": "stdout",
     "output_type": "stream",
     "text": [
      "\u001b[1m74/74\u001b[0m \u001b[32m━━━━━━━━━━━━━━━━━━━━\u001b[0m\u001b[37m\u001b[0m \u001b[1m0s\u001b[0m 2ms/step\n"
     ]
    },
    {
     "name": "stderr",
     "output_type": "stream",
     "text": [
      "[I 2025-03-21 02:27:39,155] Trial 23 finished with value: 0.4951619482744554 and parameters: {'units_layer1': 80, 'units_layer2': 48, 'dropout_rate': 0.347645078203359, 'learning_rate': 0.00023828059425202148}. Best is trial 16 with value: 0.5138614669168639.\n"
     ]
    },
    {
     "name": "stdout",
     "output_type": "stream",
     "text": [
      "\u001b[1m74/74\u001b[0m \u001b[32m━━━━━━━━━━━━━━━━━━━━\u001b[0m\u001b[37m\u001b[0m \u001b[1m0s\u001b[0m 2ms/step\n"
     ]
    },
    {
     "name": "stderr",
     "output_type": "stream",
     "text": [
      "[I 2025-03-21 02:27:45,433] Trial 24 finished with value: 0.4935465448315248 and parameters: {'units_layer1': 48, 'units_layer2': 32, 'dropout_rate': 0.2853353268548417, 'learning_rate': 0.0009921345628390564}. Best is trial 16 with value: 0.5138614669168639.\n"
     ]
    },
    {
     "name": "stdout",
     "output_type": "stream",
     "text": [
      "\u001b[1m74/74\u001b[0m \u001b[32m━━━━━━━━━━━━━━━━━━━━\u001b[0m\u001b[37m\u001b[0m \u001b[1m0s\u001b[0m 2ms/step\n"
     ]
    },
    {
     "name": "stderr",
     "output_type": "stream",
     "text": [
      "[I 2025-03-21 02:27:52,063] Trial 25 finished with value: 0.5011014114383617 and parameters: {'units_layer1': 64, 'units_layer2': 64, 'dropout_rate': 0.45077200319218935, 'learning_rate': 0.000436953256420732}. Best is trial 16 with value: 0.5138614669168639.\n"
     ]
    },
    {
     "name": "stdout",
     "output_type": "stream",
     "text": [
      "\u001b[1m74/74\u001b[0m \u001b[32m━━━━━━━━━━━━━━━━━━━━\u001b[0m\u001b[37m\u001b[0m \u001b[1m0s\u001b[0m 2ms/step\n"
     ]
    },
    {
     "name": "stderr",
     "output_type": "stream",
     "text": [
      "[I 2025-03-21 02:27:59,763] Trial 26 finished with value: 0.4981316798564086 and parameters: {'units_layer1': 48, 'units_layer2': 48, 'dropout_rate': 0.3442668024929688, 'learning_rate': 0.0002273872201428079}. Best is trial 16 with value: 0.5138614669168639.\n"
     ]
    },
    {
     "name": "stdout",
     "output_type": "stream",
     "text": [
      "\u001b[1m74/74\u001b[0m \u001b[32m━━━━━━━━━━━━━━━━━━━━\u001b[0m\u001b[37m\u001b[0m \u001b[1m0s\u001b[0m 2ms/step\n"
     ]
    },
    {
     "name": "stderr",
     "output_type": "stream",
     "text": [
      "[I 2025-03-21 02:28:06,983] Trial 27 finished with value: 0.4870196622338256 and parameters: {'units_layer1': 80, 'units_layer2': 32, 'dropout_rate': 0.49778532108815526, 'learning_rate': 0.00011407505810572303}. Best is trial 16 with value: 0.5138614669168639.\n"
     ]
    },
    {
     "name": "stdout",
     "output_type": "stream",
     "text": [
      "\u001b[1m74/74\u001b[0m \u001b[32m━━━━━━━━━━━━━━━━━━━━\u001b[0m\u001b[37m\u001b[0m \u001b[1m0s\u001b[0m 2ms/step\n"
     ]
    },
    {
     "name": "stderr",
     "output_type": "stream",
     "text": [
      "[I 2025-03-21 02:28:13,989] Trial 28 finished with value: 0.49666313127192624 and parameters: {'units_layer1': 64, 'units_layer2': 48, 'dropout_rate': 0.38515677064491705, 'learning_rate': 0.0006490142154149003}. Best is trial 16 with value: 0.5138614669168639.\n"
     ]
    },
    {
     "name": "stdout",
     "output_type": "stream",
     "text": [
      "\u001b[1m74/74\u001b[0m \u001b[32m━━━━━━━━━━━━━━━━━━━━\u001b[0m\u001b[37m\u001b[0m \u001b[1m0s\u001b[0m 2ms/step\n"
     ]
    },
    {
     "name": "stderr",
     "output_type": "stream",
     "text": [
      "[I 2025-03-21 02:28:20,674] Trial 29 finished with value: 0.4896304152729053 and parameters: {'units_layer1': 32, 'units_layer2': 64, 'dropout_rate': 0.28928780326565984, 'learning_rate': 0.0011252480026072173}. Best is trial 16 with value: 0.5138614669168639.\n"
     ]
    },
    {
     "name": "stdout",
     "output_type": "stream",
     "text": [
      "\u001b[1m74/74\u001b[0m \u001b[32m━━━━━━━━━━━━━━━━━━━━\u001b[0m\u001b[37m\u001b[0m \u001b[1m0s\u001b[0m 2ms/step\n"
     ]
    },
    {
     "name": "stderr",
     "output_type": "stream",
     "text": [
      "[I 2025-03-21 02:28:27,711] Trial 30 finished with value: 0.49685893774985723 and parameters: {'units_layer1': 48, 'units_layer2': 48, 'dropout_rate': 0.4229772602894599, 'learning_rate': 0.00042454430372123757}. Best is trial 16 with value: 0.5138614669168639.\n"
     ]
    },
    {
     "name": "stdout",
     "output_type": "stream",
     "text": [
      "\u001b[1m74/74\u001b[0m \u001b[32m━━━━━━━━━━━━━━━━━━━━\u001b[0m\u001b[37m\u001b[0m \u001b[1m0s\u001b[0m 2ms/step\n"
     ]
    },
    {
     "name": "stderr",
     "output_type": "stream",
     "text": [
      "[I 2025-03-21 02:28:34,161] Trial 31 finished with value: 0.4979685077914661 and parameters: {'units_layer1': 48, 'units_layer2': 48, 'dropout_rate': 0.4042600130663842, 'learning_rate': 0.00030315800514505554}. Best is trial 16 with value: 0.5138614669168639.\n"
     ]
    },
    {
     "name": "stdout",
     "output_type": "stream",
     "text": [
      "\u001b[1m74/74\u001b[0m \u001b[32m━━━━━━━━━━━━━━━━━━━━\u001b[0m\u001b[37m\u001b[0m \u001b[1m0s\u001b[0m 2ms/step\n"
     ]
    },
    {
     "name": "stderr",
     "output_type": "stream",
     "text": [
      "[I 2025-03-21 02:28:40,687] Trial 32 finished with value: 0.49286122215876643 and parameters: {'units_layer1': 48, 'units_layer2': 32, 'dropout_rate': 0.39063181872779273, 'learning_rate': 0.00015320985253492673}. Best is trial 16 with value: 0.5138614669168639.\n"
     ]
    },
    {
     "name": "stdout",
     "output_type": "stream",
     "text": [
      "\u001b[1m74/74\u001b[0m \u001b[32m━━━━━━━━━━━━━━━━━━━━\u001b[0m\u001b[37m\u001b[0m \u001b[1m0s\u001b[0m 2ms/step\n"
     ]
    },
    {
     "name": "stderr",
     "output_type": "stream",
     "text": [
      "[I 2025-03-21 02:28:47,387] Trial 33 finished with value: 0.5000407930162356 and parameters: {'units_layer1': 64, 'units_layer2': 48, 'dropout_rate': 0.453378448239817, 'learning_rate': 0.0002763929921442915}. Best is trial 16 with value: 0.5138614669168639.\n"
     ]
    },
    {
     "name": "stdout",
     "output_type": "stream",
     "text": [
      "\u001b[1m74/74\u001b[0m \u001b[32m━━━━━━━━━━━━━━━━━━━━\u001b[0m\u001b[37m\u001b[0m \u001b[1m0s\u001b[0m 2ms/step\n"
     ]
    },
    {
     "name": "stderr",
     "output_type": "stream",
     "text": [
      "[I 2025-03-21 02:28:54,070] Trial 34 finished with value: 0.48550216202986046 and parameters: {'units_layer1': 48, 'units_layer2': 48, 'dropout_rate': 0.36283279866461143, 'learning_rate': 0.0005918631215818804}. Best is trial 16 with value: 0.5138614669168639.\n"
     ]
    },
    {
     "name": "stdout",
     "output_type": "stream",
     "text": [
      "\u001b[1m74/74\u001b[0m \u001b[32m━━━━━━━━━━━━━━━━━━━━\u001b[0m\u001b[37m\u001b[0m \u001b[1m0s\u001b[0m 2ms/step\n"
     ]
    },
    {
     "name": "stderr",
     "output_type": "stream",
     "text": [
      "[I 2025-03-21 02:29:01,072] Trial 35 finished with value: 0.4929591253977319 and parameters: {'units_layer1': 32, 'units_layer2': 64, 'dropout_rate': 0.41636704729828083, 'learning_rate': 0.00017649866845868134}. Best is trial 16 with value: 0.5138614669168639.\n"
     ]
    },
    {
     "name": "stdout",
     "output_type": "stream",
     "text": [
      "\u001b[1m74/74\u001b[0m \u001b[32m━━━━━━━━━━━━━━━━━━━━\u001b[0m\u001b[37m\u001b[0m \u001b[1m0s\u001b[0m 2ms/step\n"
     ]
    },
    {
     "name": "stderr",
     "output_type": "stream",
     "text": [
      "[I 2025-03-21 02:29:07,841] Trial 36 finished with value: 0.49467243207962797 and parameters: {'units_layer1': 96, 'units_layer2': 32, 'dropout_rate': 0.4694871146265651, 'learning_rate': 0.0003740612063902324}. Best is trial 16 with value: 0.5138614669168639.\n"
     ]
    },
    {
     "name": "stdout",
     "output_type": "stream",
     "text": [
      "\u001b[1m74/74\u001b[0m \u001b[32m━━━━━━━━━━━━━━━━━━━━\u001b[0m\u001b[37m\u001b[0m \u001b[1m0s\u001b[0m 2ms/step\n"
     ]
    },
    {
     "name": "stderr",
     "output_type": "stream",
     "text": [
      "[I 2025-03-21 02:29:14,633] Trial 37 finished with value: 0.48617116749612466 and parameters: {'units_layer1': 64, 'units_layer2': 48, 'dropout_rate': 0.43942244318989027, 'learning_rate': 0.0008491898251540508}. Best is trial 16 with value: 0.5138614669168639.\n"
     ]
    },
    {
     "name": "stdout",
     "output_type": "stream",
     "text": [
      "\u001b[1m74/74\u001b[0m \u001b[32m━━━━━━━━━━━━━━━━━━━━\u001b[0m\u001b[37m\u001b[0m \u001b[1m0s\u001b[0m 2ms/step\n"
     ]
    },
    {
     "name": "stderr",
     "output_type": "stream",
     "text": [
      "[I 2025-03-21 02:29:21,208] Trial 38 finished with value: 0.5025862772293384 and parameters: {'units_layer1': 96, 'units_layer2': 16, 'dropout_rate': 0.2585858153910888, 'learning_rate': 0.00020666524568157605}. Best is trial 16 with value: 0.5138614669168639.\n"
     ]
    },
    {
     "name": "stdout",
     "output_type": "stream",
     "text": [
      "\u001b[1m74/74\u001b[0m \u001b[32m━━━━━━━━━━━━━━━━━━━━\u001b[0m\u001b[37m\u001b[0m \u001b[1m0s\u001b[0m 2ms/step\n"
     ]
    },
    {
     "name": "stderr",
     "output_type": "stream",
     "text": [
      "[I 2025-03-21 02:29:27,501] Trial 39 finished with value: 0.5007261156889941 and parameters: {'units_layer1': 32, 'units_layer2': 48, 'dropout_rate': 0.3860439155532478, 'learning_rate': 0.0004921305846524905}. Best is trial 16 with value: 0.5138614669168639.\n"
     ]
    },
    {
     "name": "stdout",
     "output_type": "stream",
     "text": [
      "\u001b[1m74/74\u001b[0m \u001b[32m━━━━━━━━━━━━━━━━━━━━\u001b[0m\u001b[37m\u001b[0m \u001b[1m0s\u001b[0m 2ms/step\n"
     ]
    },
    {
     "name": "stderr",
     "output_type": "stream",
     "text": [
      "[I 2025-03-21 02:29:34,379] Trial 40 finished with value: 0.5071877294607163 and parameters: {'units_layer1': 80, 'units_layer2': 32, 'dropout_rate': 0.39721308071686345, 'learning_rate': 0.00028482542015893715}. Best is trial 16 with value: 0.5138614669168639.\n"
     ]
    },
    {
     "name": "stdout",
     "output_type": "stream",
     "text": [
      "\u001b[1m74/74\u001b[0m \u001b[32m━━━━━━━━━━━━━━━━━━━━\u001b[0m\u001b[37m\u001b[0m \u001b[1m0s\u001b[0m 2ms/step\n"
     ]
    },
    {
     "name": "stderr",
     "output_type": "stream",
     "text": [
      "[I 2025-03-21 02:29:40,826] Trial 41 finished with value: 0.5042832667047401 and parameters: {'units_layer1': 80, 'units_layer2': 32, 'dropout_rate': 0.40073608641714764, 'learning_rate': 0.00028865804536133737}. Best is trial 16 with value: 0.5138614669168639.\n"
     ]
    },
    {
     "name": "stdout",
     "output_type": "stream",
     "text": [
      "\u001b[1m74/74\u001b[0m \u001b[32m━━━━━━━━━━━━━━━━━━━━\u001b[0m\u001b[37m\u001b[0m \u001b[1m0s\u001b[0m 3ms/step\n"
     ]
    },
    {
     "name": "stderr",
     "output_type": "stream",
     "text": [
      "[I 2025-03-21 02:29:47,782] Trial 42 finished with value: 0.4956025128498001 and parameters: {'units_layer1': 112, 'units_layer2': 32, 'dropout_rate': 0.35879286477756545, 'learning_rate': 0.00013164256286475146}. Best is trial 16 with value: 0.5138614669168639.\n"
     ]
    },
    {
     "name": "stdout",
     "output_type": "stream",
     "text": [
      "\u001b[1m74/74\u001b[0m \u001b[32m━━━━━━━━━━━━━━━━━━━━\u001b[0m\u001b[37m\u001b[0m \u001b[1m0s\u001b[0m 2ms/step\n"
     ]
    },
    {
     "name": "stderr",
     "output_type": "stream",
     "text": [
      "[I 2025-03-21 02:29:55,360] Trial 43 finished with value: 0.508019906991923 and parameters: {'units_layer1': 80, 'units_layer2': 16, 'dropout_rate': 0.3361242138959528, 'learning_rate': 0.0003609352243956555}. Best is trial 16 with value: 0.5138614669168639.\n"
     ]
    },
    {
     "name": "stdout",
     "output_type": "stream",
     "text": [
      "\u001b[1m74/74\u001b[0m \u001b[32m━━━━━━━━━━━━━━━━━━━━\u001b[0m\u001b[37m\u001b[0m \u001b[1m0s\u001b[0m 2ms/step\n"
     ]
    },
    {
     "name": "stderr",
     "output_type": "stream",
     "text": [
      "[I 2025-03-21 02:30:02,878] Trial 44 finished with value: 0.4978216529330179 and parameters: {'units_layer1': 80, 'units_layer2': 16, 'dropout_rate': 0.33854797945724735, 'learning_rate': 0.00039127540529981276}. Best is trial 16 with value: 0.5138614669168639.\n"
     ]
    },
    {
     "name": "stdout",
     "output_type": "stream",
     "text": [
      "\u001b[1m74/74\u001b[0m \u001b[32m━━━━━━━━━━━━━━━━━━━━\u001b[0m\u001b[37m\u001b[0m \u001b[1m0s\u001b[0m 2ms/step\n"
     ]
    },
    {
     "name": "stderr",
     "output_type": "stream",
     "text": [
      "[I 2025-03-21 02:30:09,875] Trial 45 finished with value: 0.4937423513094558 and parameters: {'units_layer1': 96, 'units_layer2': 16, 'dropout_rate': 0.30826806986200456, 'learning_rate': 0.00017729922527998706}. Best is trial 16 with value: 0.5138614669168639.\n"
     ]
    },
    {
     "name": "stdout",
     "output_type": "stream",
     "text": [
      "\u001b[1m74/74\u001b[0m \u001b[32m━━━━━━━━━━━━━━━━━━━━\u001b[0m\u001b[37m\u001b[0m \u001b[1m0s\u001b[0m 2ms/step\n"
     ]
    },
    {
     "name": "stderr",
     "output_type": "stream",
     "text": [
      "[I 2025-03-21 02:30:18,429] Trial 46 finished with value: 0.4963531043485355 and parameters: {'units_layer1': 80, 'units_layer2': 16, 'dropout_rate': 0.331150442109178, 'learning_rate': 0.00026930300566999397}. Best is trial 16 with value: 0.5138614669168639.\n"
     ]
    },
    {
     "name": "stdout",
     "output_type": "stream",
     "text": [
      "\u001b[1m74/74\u001b[0m \u001b[32m━━━━━━━━━━━━━━━━━━━━\u001b[0m\u001b[37m\u001b[0m \u001b[1m0s\u001b[0m 2ms/step\n"
     ]
    },
    {
     "name": "stderr",
     "output_type": "stream",
     "text": [
      "[I 2025-03-21 02:30:25,677] Trial 47 finished with value: 0.49720159908623646 and parameters: {'units_layer1': 112, 'units_layer2': 16, 'dropout_rate': 0.3014883965349532, 'learning_rate': 0.0005389831360047789}. Best is trial 16 with value: 0.5138614669168639.\n"
     ]
    },
    {
     "name": "stdout",
     "output_type": "stream",
     "text": [
      "\u001b[1m74/74\u001b[0m \u001b[32m━━━━━━━━━━━━━━━━━━━━\u001b[0m\u001b[37m\u001b[0m \u001b[1m0s\u001b[0m 2ms/step\n"
     ]
    },
    {
     "name": "stderr",
     "output_type": "stream",
     "text": [
      "[I 2025-03-21 02:30:32,708] Trial 48 finished with value: 0.5002855511136494 and parameters: {'units_layer1': 64, 'units_layer2': 32, 'dropout_rate': 0.37342403579389594, 'learning_rate': 0.0007182638741549205}. Best is trial 16 with value: 0.5138614669168639.\n"
     ]
    },
    {
     "name": "stdout",
     "output_type": "stream",
     "text": [
      "\u001b[1m74/74\u001b[0m \u001b[32m━━━━━━━━━━━━━━━━━━━━\u001b[0m\u001b[37m\u001b[0m \u001b[1m0s\u001b[0m 3ms/step\n"
     ]
    },
    {
     "name": "stderr",
     "output_type": "stream",
     "text": [
      "[I 2025-03-21 02:30:39,767] Trial 49 finished with value: 0.4995186424084197 and parameters: {'units_layer1': 96, 'units_layer2': 16, 'dropout_rate': 0.268698138594992, 'learning_rate': 0.00037487255259854364}. Best is trial 16 with value: 0.5138614669168639.\n"
     ]
    },
    {
     "name": "stdout",
     "output_type": "stream",
     "text": [
      "Melhores parâmetros do Optuna: {'units_layer1': 48, 'units_layer2': 48, 'dropout_rate': 0.40984487180359713, 'learning_rate': 0.0003929490855706095}\n",
      "\u001b[1m74/74\u001b[0m \u001b[32m━━━━━━━━━━━━━━━━━━━━\u001b[0m\u001b[37m\u001b[0m \u001b[1m0s\u001b[0m 2ms/step\n",
      "\n",
      "-- Métricas de Teste --\n",
      "Confusion Matrix:\n",
      "[[1319  393]\n",
      " [ 154  480]]\n",
      "Precision: 0.5498 | Recall: 0.7571 | F1: 0.6370\n",
      "AUC: 0.8424 | MSE: 0.1579 | KS: 0.5364\n"
     ]
    },
    {
     "data": {
      "image/png": "[encoded data removed]",
      "text/plain": [
       "<Figure size 640x480 with 1 Axes>"
      ]
     },
     "metadata": {},
     "output_type": "display_data"
    },
    {
     "data": {
      "image/png": "[encoded data removed]",
      "text/plain": [
       "<Figure size 800x500 with 1 Axes>"
      ]
     },
     "metadata": {},
     "output_type": "display_data"
    },
    {
     "name": "stderr",
     "output_type": "stream",
     "text": [
      "[I 2025-03-21 02:30:59,651] A new study created in memory with name: no-name-ec575777-5dd6-4a7e-8b98-4ad2f520e6b8\n"
     ]
    },
    {
     "name": "stdout",
     "output_type": "stream",
     "text": [
      "KS = 0.5364 (ou 53.64%) no threshold = 0.5165\n",
      "\n",
      "===== FOLD 3 =====\n",
      "\u001b[1m74/74\u001b[0m \u001b[32m━━━━━━━━━━━━━━━━━━━━\u001b[0m\u001b[37m\u001b[0m \u001b[1m0s\u001b[0m 2ms/step\n"
     ]
    },
    {
     "name": "stderr",
     "output_type": "stream",
     "text": [
      "[I 2025-03-21 02:31:06,830] Trial 0 finished with value: 0.5277241369144138 and parameters: {'units_layer1': 112, 'units_layer2': 32, 'dropout_rate': 0.3522466202363215, 'learning_rate': 0.00305093863465753}. Best is trial 0 with value: 0.5277241369144138.\n"
     ]
    },
    {
     "name": "stdout",
     "output_type": "stream",
     "text": [
      "\u001b[1m74/74\u001b[0m \u001b[32m━━━━━━━━━━━━━━━━━━━━\u001b[0m\u001b[37m\u001b[0m \u001b[1m0s\u001b[0m 2ms/step\n"
     ]
    },
    {
     "name": "stderr",
     "output_type": "stream",
     "text": [
      "[I 2025-03-21 02:31:13,657] Trial 1 finished with value: 0.5172064329726702 and parameters: {'units_layer1': 128, 'units_layer2': 32, 'dropout_rate': 0.2908783194745832, 'learning_rate': 0.003934869349904308}. Best is trial 0 with value: 0.5277241369144138.\n"
     ]
    },
    {
     "name": "stdout",
     "output_type": "stream",
     "text": [
      "\u001b[1m74/74\u001b[0m \u001b[32m━━━━━━━━━━━━━━━━━━━━\u001b[0m\u001b[37m\u001b[0m \u001b[1m0s\u001b[0m 2ms/step  \n"
     ]
    },
    {
     "name": "stderr",
     "output_type": "stream",
     "text": [
      "[I 2025-03-21 02:31:20,339] Trial 2 finished with value: 0.5487448037972817 and parameters: {'units_layer1': 96, 'units_layer2': 64, 'dropout_rate': 0.4868453751343069, 'learning_rate': 0.0004159238537299095}. Best is trial 2 with value: 0.5487448037972817.\n"
     ]
    },
    {
     "name": "stdout",
     "output_type": "stream",
     "text": [
      "\u001b[1m74/74\u001b[0m \u001b[32m━━━━━━━━━━━━━━━━━━━━\u001b[0m\u001b[37m\u001b[0m \u001b[1m0s\u001b[0m 2ms/step  \n"
     ]
    },
    {
     "name": "stderr",
     "output_type": "stream",
     "text": [
      "[I 2025-03-21 02:31:26,992] Trial 3 finished with value: 0.5207663846221882 and parameters: {'units_layer1': 48, 'units_layer2': 64, 'dropout_rate': 0.27650540116343897, 'learning_rate': 0.0019923265180470788}. Best is trial 2 with value: 0.5487448037972817.\n"
     ]
    },
    {
     "name": "stdout",
     "output_type": "stream",
     "text": [
      "\u001b[1m74/74\u001b[0m \u001b[32m━━━━━━━━━━━━━━━━━━━━\u001b[0m\u001b[37m\u001b[0m \u001b[1m0s\u001b[0m 2ms/step  \n"
     ]
    },
    {
     "name": "stderr",
     "output_type": "stream",
     "text": [
      "[I 2025-03-21 02:31:33,421] Trial 4 finished with value: 0.5485789675403167 and parameters: {'units_layer1': 80, 'units_layer2': 64, 'dropout_rate': 0.21653322481378162, 'learning_rate': 0.00024263897701160968}. Best is trial 2 with value: 0.5487448037972817.\n"
     ]
    },
    {
     "name": "stdout",
     "output_type": "stream",
     "text": [
      "\u001b[1m74/74\u001b[0m \u001b[32m━━━━━━━━━━━━━━━━━━━━\u001b[0m\u001b[37m\u001b[0m \u001b[1m0s\u001b[0m 2ms/step\n"
     ]
    },
    {
     "name": "stderr",
     "output_type": "stream",
     "text": [
      "[I 2025-03-21 02:31:39,682] Trial 5 finished with value: 0.5595020489990861 and parameters: {'units_layer1': 112, 'units_layer2': 16, 'dropout_rate': 0.41295019996267257, 'learning_rate': 0.00017484430071982524}. Best is trial 5 with value: 0.5595020489990861.\n"
     ]
    },
    {
     "name": "stdout",
     "output_type": "stream",
     "text": [
      "\u001b[1m74/74\u001b[0m \u001b[32m━━━━━━━━━━━━━━━━━━━━\u001b[0m\u001b[37m\u001b[0m \u001b[1m0s\u001b[0m 2ms/step  \n"
     ]
    },
    {
     "name": "stderr",
     "output_type": "stream",
     "text": [
      "[I 2025-03-21 02:31:45,836] Trial 6 finished with value: 0.5285883280757098 and parameters: {'units_layer1': 64, 'units_layer2': 48, 'dropout_rate': 0.4335011858448955, 'learning_rate': 0.005047360378827631}. Best is trial 5 with value: 0.5595020489990861.\n"
     ]
    },
    {
     "name": "stdout",
     "output_type": "stream",
     "text": [
      "\u001b[1m74/74\u001b[0m \u001b[32m━━━━━━━━━━━━━━━━━━━━\u001b[0m\u001b[37m\u001b[0m \u001b[1m0s\u001b[0m 2ms/step  \n"
     ]
    },
    {
     "name": "stderr",
     "output_type": "stream",
     "text": [
      "[I 2025-03-21 02:31:52,344] Trial 7 finished with value: 0.5124708865237773 and parameters: {'units_layer1': 48, 'units_layer2': 64, 'dropout_rate': 0.3563317878208063, 'learning_rate': 0.0029252475473755092}. Best is trial 5 with value: 0.5595020489990861.\n"
     ]
    },
    {
     "name": "stdout",
     "output_type": "stream",
     "text": [
      "\u001b[1m74/74\u001b[0m \u001b[32m━━━━━━━━━━━━━━━━━━━━\u001b[0m\u001b[37m\u001b[0m \u001b[1m0s\u001b[0m 1ms/step  \n"
     ]
    },
    {
     "name": "stderr",
     "output_type": "stream",
     "text": [
      "[I 2025-03-21 02:31:58,685] Trial 8 finished with value: 0.5315088888233733 and parameters: {'units_layer1': 48, 'units_layer2': 32, 'dropout_rate': 0.3069859291438825, 'learning_rate': 0.0018118883697373007}. Best is trial 5 with value: 0.5595020489990861.\n"
     ]
    },
    {
     "name": "stdout",
     "output_type": "stream",
     "text": [
      "\u001b[1m74/74\u001b[0m \u001b[32m━━━━━━━━━━━━━━━━━━━━\u001b[0m\u001b[37m\u001b[0m \u001b[1m0s\u001b[0m 2ms/step\n"
     ]
    },
    {
     "name": "stderr",
     "output_type": "stream",
     "text": [
      "[I 2025-03-21 02:32:05,156] Trial 9 finished with value: 0.5401121053097084 and parameters: {'units_layer1': 48, 'units_layer2': 16, 'dropout_rate': 0.36802195632830786, 'learning_rate': 0.0021076492904408923}. Best is trial 5 with value: 0.5595020489990861.\n"
     ]
    },
    {
     "name": "stdout",
     "output_type": "stream",
     "text": [
      "\u001b[1m74/74\u001b[0m \u001b[32m━━━━━━━━━━━━━━━━━━━━\u001b[0m\u001b[37m\u001b[0m \u001b[1m0s\u001b[0m 2ms/step\n"
     ]
    },
    {
     "name": "stderr",
     "output_type": "stream",
     "text": [
      "[I 2025-03-21 02:32:11,659] Trial 10 finished with value: 0.551611928417701 and parameters: {'units_layer1': 128, 'units_layer2': 16, 'dropout_rate': 0.42739947128898426, 'learning_rate': 0.00010408683330498339}. Best is trial 5 with value: 0.5595020489990861.\n"
     ]
    },
    {
     "name": "stdout",
     "output_type": "stream",
     "text": [
      "\u001b[1m74/74\u001b[0m \u001b[32m━━━━━━━━━━━━━━━━━━━━\u001b[0m\u001b[37m\u001b[0m \u001b[1m0s\u001b[0m 2ms/step\n"
     ]
    },
    {
     "name": "stderr",
     "output_type": "stream",
     "text": [
      "[I 2025-03-21 02:32:18,373] Trial 11 finished with value: 0.5628243020136207 and parameters: {'units_layer1': 128, 'units_layer2': 16, 'dropout_rate': 0.4218025641294163, 'learning_rate': 0.0001016908292041727}. Best is trial 11 with value: 0.5628243020136207.\n"
     ]
    },
    {
     "name": "stdout",
     "output_type": "stream",
     "text": [
      "\u001b[1m74/74\u001b[0m \u001b[32m━━━━━━━━━━━━━━━━━━━━\u001b[0m\u001b[37m\u001b[0m \u001b[1m0s\u001b[0m 2ms/step\n"
     ]
    },
    {
     "name": "stderr",
     "output_type": "stream",
     "text": [
      "[I 2025-03-21 02:32:25,111] Trial 12 finished with value: 0.5578639553052861 and parameters: {'units_layer1': 112, 'units_layer2': 16, 'dropout_rate': 0.41892836934683464, 'learning_rate': 0.00013289283456354237}. Best is trial 11 with value: 0.5628243020136207.\n"
     ]
    },
    {
     "name": "stdout",
     "output_type": "stream",
     "text": [
      "\u001b[1m74/74\u001b[0m \u001b[32m━━━━━━━━━━━━━━━━━━━━\u001b[0m\u001b[37m\u001b[0m \u001b[1m0s\u001b[0m 2ms/step\n"
     ]
    },
    {
     "name": "stderr",
     "output_type": "stream",
     "text": [
      "[I 2025-03-21 02:32:31,725] Trial 13 finished with value: 0.548514475662608 and parameters: {'units_layer1': 96, 'units_layer2': 16, 'dropout_rate': 0.48594196918812227, 'learning_rate': 0.0006409623830870181}. Best is trial 11 with value: 0.5628243020136207.\n"
     ]
    },
    {
     "name": "stdout",
     "output_type": "stream",
     "text": [
      "\u001b[1m74/74\u001b[0m \u001b[32m━━━━━━━━━━━━━━━━━━━━\u001b[0m\u001b[37m\u001b[0m \u001b[1m0s\u001b[0m 2ms/step\n"
     ]
    },
    {
     "name": "stderr",
     "output_type": "stream",
     "text": [
      "[I 2025-03-21 02:32:38,376] Trial 14 finished with value: 0.5540110262684631 and parameters: {'units_layer1': 112, 'units_layer2': 48, 'dropout_rate': 0.40049168390677276, 'learning_rate': 0.00025958638103030894}. Best is trial 11 with value: 0.5628243020136207.\n"
     ]
    },
    {
     "name": "stdout",
     "output_type": "stream",
     "text": [
      "\u001b[1m74/74\u001b[0m \u001b[32m━━━━━━━━━━━━━━━━━━━━\u001b[0m\u001b[37m\u001b[0m \u001b[1m0s\u001b[0m 2ms/step\n"
     ]
    },
    {
     "name": "stderr",
     "output_type": "stream",
     "text": [
      "[I 2025-03-21 02:32:44,888] Trial 15 finished with value: 0.5548236239275922 and parameters: {'units_layer1': 128, 'units_layer2': 32, 'dropout_rate': 0.4612801339464916, 'learning_rate': 0.00017404191821826845}. Best is trial 11 with value: 0.5628243020136207.\n"
     ]
    },
    {
     "name": "stdout",
     "output_type": "stream",
     "text": [
      "\u001b[1m74/74\u001b[0m \u001b[32m━━━━━━━━━━━━━━━━━━━━\u001b[0m\u001b[37m\u001b[0m \u001b[1m0s\u001b[0m 2ms/step\n"
     ]
    },
    {
     "name": "stderr",
     "output_type": "stream",
     "text": [
      "[I 2025-03-21 02:32:51,542] Trial 16 finished with value: 0.5427323181697573 and parameters: {'units_layer1': 96, 'units_layer2': 16, 'dropout_rate': 0.3863636838547414, 'learning_rate': 0.0009839864765849877}. Best is trial 11 with value: 0.5628243020136207.\n"
     ]
    },
    {
     "name": "stdout",
     "output_type": "stream",
     "text": [
      "\u001b[1m74/74\u001b[0m \u001b[32m━━━━━━━━━━━━━━━━━━━━\u001b[0m\u001b[37m\u001b[0m \u001b[1m0s\u001b[0m 2ms/step\n"
     ]
    },
    {
     "name": "stderr",
     "output_type": "stream",
     "text": [
      "[I 2025-03-21 02:32:59,737] Trial 17 finished with value: 0.5638801261829653 and parameters: {'units_layer1': 80, 'units_layer2': 16, 'dropout_rate': 0.451679960455174, 'learning_rate': 0.0003679530793506667}. Best is trial 17 with value: 0.5638801261829653.\n"
     ]
    },
    {
     "name": "stdout",
     "output_type": "stream",
     "text": [
      "\u001b[1m74/74\u001b[0m \u001b[32m━━━━━━━━━━━━━━━━━━━━\u001b[0m\u001b[37m\u001b[0m \u001b[1m0s\u001b[0m 3ms/step\n"
     ]
    },
    {
     "name": "stderr",
     "output_type": "stream",
     "text": [
      "[I 2025-03-21 02:33:06,912] Trial 18 finished with value: 0.5465963029570448 and parameters: {'units_layer1': 80, 'units_layer2': 48, 'dropout_rate': 0.4453815314916116, 'learning_rate': 0.0004948143699232671}. Best is trial 17 with value: 0.5638801261829653.\n"
     ]
    },
    {
     "name": "stdout",
     "output_type": "stream",
     "text": [
      "\u001b[1m74/74\u001b[0m \u001b[32m━━━━━━━━━━━━━━━━━━━━\u001b[0m\u001b[37m\u001b[0m \u001b[1m0s\u001b[0m 2ms/step\n"
     ]
    },
    {
     "name": "stderr",
     "output_type": "stream",
     "text": [
      "[I 2025-03-21 02:33:13,971] Trial 19 finished with value: 0.5541879182758925 and parameters: {'units_layer1': 32, 'units_layer2': 32, 'dropout_rate': 0.49928948010033963, 'learning_rate': 0.000316212978887185}. Best is trial 17 with value: 0.5638801261829653.\n"
     ]
    },
    {
     "name": "stdout",
     "output_type": "stream",
     "text": [
      "\u001b[1m74/74\u001b[0m \u001b[32m━━━━━━━━━━━━━━━━━━━━\u001b[0m\u001b[37m\u001b[0m \u001b[1m0s\u001b[0m 2ms/step\n"
     ]
    },
    {
     "name": "stderr",
     "output_type": "stream",
     "text": [
      "[I 2025-03-21 02:33:21,003] Trial 20 finished with value: 0.540454833574103 and parameters: {'units_layer1': 80, 'units_layer2': 16, 'dropout_rate': 0.32567200119107886, 'learning_rate': 0.0007441821418294875}. Best is trial 17 with value: 0.5638801261829653.\n"
     ]
    },
    {
     "name": "stdout",
     "output_type": "stream",
     "text": [
      "\u001b[1m74/74\u001b[0m \u001b[32m━━━━━━━━━━━━━━━━━━━━\u001b[0m\u001b[37m\u001b[0m \u001b[1m0s\u001b[0m 2ms/step\n"
     ]
    },
    {
     "name": "stderr",
     "output_type": "stream",
     "text": [
      "[I 2025-03-21 02:33:28,135] Trial 21 finished with value: 0.5212399392670775 and parameters: {'units_layer1': 112, 'units_layer2': 16, 'dropout_rate': 0.46124247787961664, 'learning_rate': 0.009874384198182064}. Best is trial 17 with value: 0.5638801261829653.\n"
     ]
    },
    {
     "name": "stdout",
     "output_type": "stream",
     "text": [
      "\u001b[1m74/74\u001b[0m \u001b[32m━━━━━━━━━━━━━━━━━━━━\u001b[0m\u001b[37m\u001b[0m \u001b[1m0s\u001b[0m 2ms/step\n"
     ]
    },
    {
     "name": "stderr",
     "output_type": "stream",
     "text": [
      "[I 2025-03-21 02:33:34,873] Trial 22 finished with value: 0.5607218668003184 and parameters: {'units_layer1': 64, 'units_layer2': 16, 'dropout_rate': 0.39548935923359985, 'learning_rate': 0.00017903614255771418}. Best is trial 17 with value: 0.5638801261829653.\n"
     ]
    },
    {
     "name": "stdout",
     "output_type": "stream",
     "text": [
      "\u001b[1m74/74\u001b[0m \u001b[32m━━━━━━━━━━━━━━━━━━━━\u001b[0m\u001b[37m\u001b[0m \u001b[1m0s\u001b[0m 3ms/step\n"
     ]
    },
    {
     "name": "stderr",
     "output_type": "stream",
     "text": [
      "[I 2025-03-21 02:33:42,031] Trial 23 finished with value: 0.5662184174061735 and parameters: {'units_layer1': 64, 'units_layer2': 32, 'dropout_rate': 0.3806767298357833, 'learning_rate': 0.00017667022353242288}. Best is trial 23 with value: 0.5662184174061735.\n"
     ]
    },
    {
     "name": "stdout",
     "output_type": "stream",
     "text": [
      "\u001b[1m74/74\u001b[0m \u001b[32m━━━━━━━━━━━━━━━━━━━━\u001b[0m\u001b[37m\u001b[0m \u001b[1m0s\u001b[0m 2ms/step\n"
     ]
    },
    {
     "name": "stderr",
     "output_type": "stream",
     "text": [
      "[I 2025-03-21 02:33:48,613] Trial 24 finished with value: 0.5489843450573425 and parameters: {'units_layer1': 64, 'units_layer2': 32, 'dropout_rate': 0.45707510012326613, 'learning_rate': 0.00011011865809088374}. Best is trial 23 with value: 0.5662184174061735.\n"
     ]
    },
    {
     "name": "stdout",
     "output_type": "stream",
     "text": [
      "\u001b[1m74/74\u001b[0m \u001b[32m━━━━━━━━━━━━━━━━━━━━\u001b[0m\u001b[37m\u001b[0m \u001b[1m0s\u001b[0m 2ms/step\n"
     ]
    },
    {
     "name": "stderr",
     "output_type": "stream",
     "text": [
      "[I 2025-03-21 02:33:55,228] Trial 25 finished with value: 0.5496274212093517 and parameters: {'units_layer1': 64, 'units_layer2': 32, 'dropout_rate': 0.3704662748993959, 'learning_rate': 0.000349246177065063}. Best is trial 23 with value: 0.5662184174061735.\n"
     ]
    },
    {
     "name": "stdout",
     "output_type": "stream",
     "text": [
      "\u001b[1m74/74\u001b[0m \u001b[32m━━━━━━━━━━━━━━━━━━━━\u001b[0m\u001b[37m\u001b[0m \u001b[1m0s\u001b[0m 2ms/step\n"
     ]
    },
    {
     "name": "stderr",
     "output_type": "stream",
     "text": [
      "[I 2025-03-21 02:34:02,266] Trial 26 finished with value: 0.5493915651994458 and parameters: {'units_layer1': 80, 'units_layer2': 48, 'dropout_rate': 0.33420830918526756, 'learning_rate': 0.00022284339796863975}. Best is trial 23 with value: 0.5662184174061735.\n"
     ]
    },
    {
     "name": "stdout",
     "output_type": "stream",
     "text": [
      "\u001b[1m74/74\u001b[0m \u001b[32m━━━━━━━━━━━━━━━━━━━━\u001b[0m\u001b[37m\u001b[0m \u001b[1m0s\u001b[0m 2ms/step\n"
     ]
    },
    {
     "name": "stderr",
     "output_type": "stream",
     "text": [
      "[I 2025-03-21 02:34:09,920] Trial 27 finished with value: 0.5564598749963148 and parameters: {'units_layer1': 96, 'units_layer2': 32, 'dropout_rate': 0.38329518052343153, 'learning_rate': 0.00014503603355698572}. Best is trial 23 with value: 0.5662184174061735.\n"
     ]
    },
    {
     "name": "stdout",
     "output_type": "stream",
     "text": [
      "\u001b[1m74/74\u001b[0m \u001b[32m━━━━━━━━━━━━━━━━━━━━\u001b[0m\u001b[37m\u001b[0m \u001b[1m0s\u001b[0m 2ms/step\n"
     ]
    },
    {
     "name": "stderr",
     "output_type": "stream",
     "text": [
      "[I 2025-03-21 02:34:17,027] Trial 28 finished with value: 0.5569776526430614 and parameters: {'units_layer1': 32, 'units_layer2': 16, 'dropout_rate': 0.4394082315789169, 'learning_rate': 0.0005385066733241317}. Best is trial 23 with value: 0.5662184174061735.\n"
     ]
    },
    {
     "name": "stdout",
     "output_type": "stream",
     "text": [
      "\u001b[1m74/74\u001b[0m \u001b[32m━━━━━━━━━━━━━━━━━━━━\u001b[0m\u001b[37m\u001b[0m \u001b[1m0s\u001b[0m 2ms/step\n"
     ]
    },
    {
     "name": "stderr",
     "output_type": "stream",
     "text": [
      "[I 2025-03-21 02:34:23,965] Trial 29 finished with value: 0.5566994162563755 and parameters: {'units_layer1': 80, 'units_layer2': 32, 'dropout_rate': 0.34293940772184406, 'learning_rate': 0.00030675900974038144}. Best is trial 23 with value: 0.5662184174061735.\n"
     ]
    },
    {
     "name": "stdout",
     "output_type": "stream",
     "text": [
      "\u001b[1m74/74\u001b[0m \u001b[32m━━━━━━━━━━━━━━━━━━━━\u001b[0m\u001b[37m\u001b[0m \u001b[1m0s\u001b[0m 2ms/step\n"
     ]
    },
    {
     "name": "stderr",
     "output_type": "stream",
     "text": [
      "[I 2025-03-21 02:34:30,722] Trial 30 finished with value: 0.5403995548217813 and parameters: {'units_layer1': 64, 'units_layer2': 16, 'dropout_rate': 0.40621107927932604, 'learning_rate': 0.0011140273439648695}. Best is trial 23 with value: 0.5662184174061735.\n"
     ]
    },
    {
     "name": "stdout",
     "output_type": "stream",
     "text": [
      "\u001b[1m74/74\u001b[0m \u001b[32m━━━━━━━━━━━━━━━━━━━━\u001b[0m\u001b[37m\u001b[0m \u001b[1m0s\u001b[0m 2ms/step\n"
     ]
    },
    {
     "name": "stderr",
     "output_type": "stream",
     "text": [
      "[I 2025-03-21 02:34:37,542] Trial 31 finished with value: 0.5520781125622807 and parameters: {'units_layer1': 64, 'units_layer2': 16, 'dropout_rate': 0.39321745633304034, 'learning_rate': 0.0001737375721684579}. Best is trial 23 with value: 0.5662184174061735.\n"
     ]
    },
    {
     "name": "stdout",
     "output_type": "stream",
     "text": [
      "\u001b[1m74/74\u001b[0m \u001b[32m━━━━━━━━━━━━━━━━━━━━\u001b[0m\u001b[37m\u001b[0m \u001b[1m0s\u001b[0m 2ms/step\n"
     ]
    },
    {
     "name": "stderr",
     "output_type": "stream",
     "text": [
      "[I 2025-03-21 02:34:44,070] Trial 32 finished with value: 0.5657540758866711 and parameters: {'units_layer1': 64, 'units_layer2': 16, 'dropout_rate': 0.3697116234422078, 'learning_rate': 0.00020398286325056433}. Best is trial 23 with value: 0.5662184174061735.\n"
     ]
    },
    {
     "name": "stdout",
     "output_type": "stream",
     "text": [
      "\u001b[1m74/74\u001b[0m \u001b[32m━━━━━━━━━━━━━━━━━━━━\u001b[0m\u001b[37m\u001b[0m \u001b[1m0s\u001b[0m 2ms/step\n"
     ]
    },
    {
     "name": "stderr",
     "output_type": "stream",
     "text": [
      "[I 2025-03-21 02:34:50,759] Trial 33 finished with value: 0.568492216751673 and parameters: {'units_layer1': 96, 'units_layer2': 32, 'dropout_rate': 0.35981238438854457, 'learning_rate': 0.0001290149881666327}. Best is trial 33 with value: 0.568492216751673.\n"
     ]
    },
    {
     "name": "stdout",
     "output_type": "stream",
     "text": [
      "\u001b[1m74/74\u001b[0m \u001b[32m━━━━━━━━━━━━━━━━━━━━\u001b[0m\u001b[37m\u001b[0m \u001b[1m0s\u001b[0m 2ms/step\n"
     ]
    },
    {
     "name": "stderr",
     "output_type": "stream",
     "text": [
      "[I 2025-03-21 02:34:57,347] Trial 34 finished with value: 0.5367806391697868 and parameters: {'units_layer1': 96, 'units_layer2': 32, 'dropout_rate': 0.26392752138023706, 'learning_rate': 0.0003923586577820926}. Best is trial 33 with value: 0.568492216751673.\n"
     ]
    },
    {
     "name": "stdout",
     "output_type": "stream",
     "text": [
      "\u001b[1m74/74\u001b[0m \u001b[32m━━━━━━━━━━━━━━━━━━━━\u001b[0m\u001b[37m\u001b[0m \u001b[1m0s\u001b[0m 2ms/step\n"
     ]
    },
    {
     "name": "stderr",
     "output_type": "stream",
     "text": [
      "[I 2025-03-21 02:35:04,197] Trial 35 finished with value: 0.5492257289424806 and parameters: {'units_layer1': 80, 'units_layer2': 48, 'dropout_rate': 0.30690633269202716, 'learning_rate': 0.00022998570356130333}. Best is trial 33 with value: 0.568492216751673.\n"
     ]
    },
    {
     "name": "stdout",
     "output_type": "stream",
     "text": [
      "\u001b[1m74/74\u001b[0m \u001b[32m━━━━━━━━━━━━━━━━━━━━\u001b[0m\u001b[37m\u001b[0m \u001b[1m0s\u001b[0m 2ms/step\n"
     ]
    },
    {
     "name": "stderr",
     "output_type": "stream",
     "text": [
      "[I 2025-03-21 02:35:11,156] Trial 36 finished with value: 0.5575120139155045 and parameters: {'units_layer1': 80, 'units_layer2': 32, 'dropout_rate': 0.35893055145910424, 'learning_rate': 0.00013878158978813563}. Best is trial 33 with value: 0.568492216751673.\n"
     ]
    },
    {
     "name": "stdout",
     "output_type": "stream",
     "text": [
      "\u001b[1m74/74\u001b[0m \u001b[32m━━━━━━━━━━━━━━━━━━━━\u001b[0m\u001b[37m\u001b[0m \u001b[1m0s\u001b[0m 3ms/step\n"
     ]
    },
    {
     "name": "stderr",
     "output_type": "stream",
     "text": [
      "[I 2025-03-21 02:35:18,050] Trial 37 finished with value: 0.55553119195731 and parameters: {'units_layer1': 96, 'units_layer2': 32, 'dropout_rate': 0.3229408028816177, 'learning_rate': 0.00021821168486460684}. Best is trial 33 with value: 0.568492216751673.\n"
     ]
    },
    {
     "name": "stdout",
     "output_type": "stream",
     "text": [
      "\u001b[1m74/74\u001b[0m \u001b[32m━━━━━━━━━━━━━━━━━━━━\u001b[0m\u001b[37m\u001b[0m \u001b[1m0s\u001b[0m 2ms/step\n"
     ]
    },
    {
     "name": "stderr",
     "output_type": "stream",
     "text": [
      "[I 2025-03-21 02:35:25,110] Trial 38 finished with value: 0.534779548335741 and parameters: {'units_layer1': 64, 'units_layer2': 32, 'dropout_rate': 0.256653161127493, 'learning_rate': 0.00047574095379061885}. Best is trial 33 with value: 0.568492216751673.\n"
     ]
    },
    {
     "name": "stdout",
     "output_type": "stream",
     "text": [
      "\u001b[1m74/74\u001b[0m \u001b[32m━━━━━━━━━━━━━━━━━━━━\u001b[0m\u001b[37m\u001b[0m \u001b[1m0s\u001b[0m 2ms/step\n"
     ]
    },
    {
     "name": "stderr",
     "output_type": "stream",
     "text": [
      "[I 2025-03-21 02:35:31,952] Trial 39 finished with value: 0.5489345941802529 and parameters: {'units_layer1': 48, 'units_layer2': 48, 'dropout_rate': 0.3449751390222937, 'learning_rate': 0.00028496163565879136}. Best is trial 33 with value: 0.568492216751673.\n"
     ]
    },
    {
     "name": "stdout",
     "output_type": "stream",
     "text": [
      "\u001b[1m74/74\u001b[0m \u001b[32m━━━━━━━━━━━━━━━━━━━━\u001b[0m\u001b[37m\u001b[0m \u001b[1m0s\u001b[0m 2ms/step\n"
     ]
    },
    {
     "name": "stderr",
     "output_type": "stream",
     "text": [
      "[I 2025-03-21 02:35:38,654] Trial 40 finished with value: 0.5483357410301011 and parameters: {'units_layer1': 48, 'units_layer2': 32, 'dropout_rate': 0.3750136521965769, 'learning_rate': 0.0001796633975439292}. Best is trial 33 with value: 0.568492216751673.\n"
     ]
    },
    {
     "name": "stdout",
     "output_type": "stream",
     "text": [
      "\u001b[1m74/74\u001b[0m \u001b[32m━━━━━━━━━━━━━━━━━━━━\u001b[0m\u001b[37m\u001b[0m \u001b[1m0s\u001b[0m 2ms/step\n"
     ]
    },
    {
     "name": "stderr",
     "output_type": "stream",
     "text": [
      "[I 2025-03-21 02:35:45,287] Trial 41 finished with value: 0.5549489224328548 and parameters: {'units_layer1': 128, 'units_layer2': 16, 'dropout_rate': 0.4149945425022353, 'learning_rate': 0.00010084335201631625}. Best is trial 33 with value: 0.568492216751673.\n"
     ]
    },
    {
     "name": "stdout",
     "output_type": "stream",
     "text": [
      "\u001b[1m74/74\u001b[0m \u001b[32m━━━━━━━━━━━━━━━━━━━━\u001b[0m\u001b[37m\u001b[0m \u001b[1m0s\u001b[0m 2ms/step\n"
     ]
    },
    {
     "name": "stderr",
     "output_type": "stream",
     "text": [
      "[I 2025-03-21 02:35:51,829] Trial 42 finished with value: 0.5510904655207995 and parameters: {'units_layer1': 64, 'units_layer2': 16, 'dropout_rate': 0.3615979730412065, 'learning_rate': 0.00012412633289961793}. Best is trial 33 with value: 0.568492216751673.\n"
     ]
    },
    {
     "name": "stdout",
     "output_type": "stream",
     "text": [
      "\u001b[1m74/74\u001b[0m \u001b[32m━━━━━━━━━━━━━━━━━━━━\u001b[0m\u001b[37m\u001b[0m \u001b[1m0s\u001b[0m 2ms/step\n"
     ]
    },
    {
     "name": "stderr",
     "output_type": "stream",
     "text": [
      "[I 2025-03-21 02:36:00,438] Trial 43 finished with value: 0.5506224387511425 and parameters: {'units_layer1': 80, 'units_layer2': 16, 'dropout_rate': 0.4810165007243549, 'learning_rate': 0.00015060424656229826}. Best is trial 33 with value: 0.568492216751673.\n"
     ]
    },
    {
     "name": "stdout",
     "output_type": "stream",
     "text": [
      "\u001b[1m74/74\u001b[0m \u001b[32m━━━━━━━━━━━━━━━━━━━━\u001b[0m\u001b[37m\u001b[0m \u001b[1m0s\u001b[0m 2ms/step\n"
     ]
    },
    {
     "name": "stderr",
     "output_type": "stream",
     "text": [
      "[I 2025-03-21 02:36:07,512] Trial 44 finished with value: 0.570484094460332 and parameters: {'units_layer1': 128, 'units_layer2': 16, 'dropout_rate': 0.4285326537644051, 'learning_rate': 0.00020220010600163763}. Best is trial 44 with value: 0.570484094460332.\n"
     ]
    },
    {
     "name": "stdout",
     "output_type": "stream",
     "text": [
      "\u001b[1m74/74\u001b[0m \u001b[32m━━━━━━━━━━━━━━━━━━━━\u001b[0m\u001b[37m\u001b[0m \u001b[1m0s\u001b[0m 2ms/step\n"
     ]
    },
    {
     "name": "stderr",
     "output_type": "stream",
     "text": [
      "[I 2025-03-21 02:36:14,347] Trial 45 finished with value: 0.550276025236593 and parameters: {'units_layer1': 96, 'units_layer2': 16, 'dropout_rate': 0.4385041838097258, 'learning_rate': 0.00020930601097168502}. Best is trial 44 with value: 0.570484094460332.\n"
     ]
    },
    {
     "name": "stdout",
     "output_type": "stream",
     "text": [
      "\u001b[1m74/74\u001b[0m \u001b[32m━━━━━━━━━━━━━━━━━━━━\u001b[0m\u001b[37m\u001b[0m \u001b[1m0s\u001b[0m 2ms/step\n"
     ]
    },
    {
     "name": "stderr",
     "output_type": "stream",
     "text": [
      "[I 2025-03-21 02:36:21,588] Trial 46 finished with value: 0.5430252955570624 and parameters: {'units_layer1': 112, 'units_layer2': 64, 'dropout_rate': 0.4709401745308867, 'learning_rate': 0.00038346982986655346}. Best is trial 44 with value: 0.570484094460332.\n"
     ]
    },
    {
     "name": "stdout",
     "output_type": "stream",
     "text": [
      "\u001b[1m74/74\u001b[0m \u001b[32m━━━━━━━━━━━━━━━━━━━━\u001b[0m\u001b[37m\u001b[0m \u001b[1m0s\u001b[0m 2ms/step\n"
     ]
    },
    {
     "name": "stderr",
     "output_type": "stream",
     "text": [
      "[I 2025-03-21 02:36:28,951] Trial 47 finished with value: 0.5521960405672337 and parameters: {'units_layer1': 64, 'units_layer2': 32, 'dropout_rate': 0.3806771209265885, 'learning_rate': 0.000295013254100197}. Best is trial 44 with value: 0.570484094460332.\n"
     ]
    },
    {
     "name": "stdout",
     "output_type": "stream",
     "text": [
      "\u001b[1m74/74\u001b[0m \u001b[32m━━━━━━━━━━━━━━━━━━━━\u001b[0m\u001b[37m\u001b[0m \u001b[1m0s\u001b[0m 2ms/step\n"
     ]
    },
    {
     "name": "stderr",
     "output_type": "stream",
     "text": [
      "[I 2025-03-21 02:36:36,311] Trial 48 finished with value: 0.5511475868981986 and parameters: {'units_layer1': 48, 'units_layer2': 16, 'dropout_rate': 0.22441040246029012, 'learning_rate': 0.00020696265975152472}. Best is trial 44 with value: 0.570484094460332.\n"
     ]
    },
    {
     "name": "stdout",
     "output_type": "stream",
     "text": [
      "\u001b[1m74/74\u001b[0m \u001b[32m━━━━━━━━━━━━━━━━━━━━\u001b[0m\u001b[37m\u001b[0m \u001b[1m0s\u001b[0m 2ms/step\n"
     ]
    },
    {
     "name": "stderr",
     "output_type": "stream",
     "text": [
      "[I 2025-03-21 02:36:43,272] Trial 49 finished with value: 0.5474125858663286 and parameters: {'units_layer1': 112, 'units_layer2': 16, 'dropout_rate': 0.4234199115613777, 'learning_rate': 0.00026384459186325416}. Best is trial 44 with value: 0.570484094460332.\n"
     ]
    },
    {
     "name": "stdout",
     "output_type": "stream",
     "text": [
      "Melhores parâmetros do Optuna: {'units_layer1': 128, 'units_layer2': 16, 'dropout_rate': 0.4285326537644051, 'learning_rate': 0.00020220010600163763}\n",
      "\u001b[1m74/74\u001b[0m \u001b[32m━━━━━━━━━━━━━━━━━━━━\u001b[0m\u001b[37m\u001b[0m \u001b[1m0s\u001b[0m 2ms/step\n",
      "\n",
      "-- Métricas de Teste --\n",
      "Confusion Matrix:\n",
      "[[1228  479]\n",
      " [ 141  497]]\n",
      "Precision: 0.5092 | Recall: 0.7790 | F1: 0.6159\n",
      "AUC: 0.8309 | MSE: 0.1669 | KS: 0.5098\n"
     ]
    },
    {
     "data": {
      "image/png": "[encoded data removed]",
      "text/plain": [
       "<Figure size 640x480 with 1 Axes>"
      ]
     },
     "metadata": {},
     "output_type": "display_data"
    },
    {
     "data": {
      "image/png": "[encoded data removed]",
      "text/plain": [
       "<Figure size 800x500 with 1 Axes>"
      ]
     },
     "metadata": {},
     "output_type": "display_data"
    },
    {
     "name": "stdout",
     "output_type": "stream",
     "text": [
      "KS = 0.5098 (ou 50.98%) no threshold = 0.6065\n"
     ]
    }
   ],
   "source": [
    "scaled_data_folder = \"scaled_data\"\n",
    "target_col = \"Churn\"\n",
    "\n",
    "def kolmogorov_smirnov(y_true, y_prob):\n",
    "    y_bin = np.array(y_true)\n",
    "    pos_probs = y_prob[y_bin == 1]\n",
    "    neg_probs = y_prob[y_bin == 0]\n",
    "    ks_stat, p_value = ks_2samp(pos_probs, neg_probs)\n",
    "    return ks_stat, p_value\n",
    "\n",
    "def evaluate_metrics(y_true, y_prob, threshold=0.5):\n",
    "    y_bin = np.array(y_true)\n",
    "    y_pred = (y_prob >= threshold).astype(int)\n",
    "\n",
    "    cm = confusion_matrix(y_bin, y_pred)\n",
    "    precision = precision_score(y_bin, y_pred)\n",
    "    recall = recall_score(y_bin, y_pred)\n",
    "    f1 = f1_score(y_bin, y_pred)\n",
    "    auc = roc_auc_score(y_bin, y_prob)\n",
    "    mse = mean_squared_error(y_bin, y_prob)\n",
    "    ks_stat, ks_p = kolmogorov_smirnov(y_true, y_prob)\n",
    "\n",
    "    return {\n",
    "        \"cm\": cm,\n",
    "        \"precision\": precision,\n",
    "        \"recall\": recall,\n",
    "        \"f1\": f1,\n",
    "        \"auc\": auc,\n",
    "        \"mse\": mse,\n",
    "        \"ks_stat\": ks_stat,\n",
    "        \"ks_p\": ks_p\n",
    "    }\n",
    "\n",
    "def build_mlp(input_dim, hidden_units, dropout_rate, learning_rate):\n",
    "    model = Sequential([\n",
    "        Input(shape=(input_dim,)),\n",
    "        Dense(hidden_units[0], activation='relu'),\n",
    "        Dropout(dropout_rate),\n",
    "        Dense(hidden_units[1], activation='relu'),\n",
    "        Dropout(dropout_rate),\n",
    "        Dense(1, activation='sigmoid')  \n",
    "    ])\n",
    "    \n",
    "    model.compile(optimizer=Adam(learning_rate=learning_rate), \n",
    "                  loss='binary_crossentropy', \n",
    "                  metrics=['accuracy'])\n",
    "    \n",
    "    return model\n",
    "\n",
    "# Função para plotar a Curva KS (CDFs)\n",
    "def plot_ks(y_true, y_score):\n",
    "    \"\"\"\n",
    "    Gera a curva de KS (Kolmogorov-Smirnov) plotando:\n",
    "    - Eixo X: Threshold (score)\n",
    "    - Eixo Y: Probabilidade acumulada\n",
    "    - Duas curvas: CDF de eventos (positivos) e CDF de não-eventos (negativos)\n",
    "    - Uma linha vertical mostrando onde a diferença (KS) é máxima\n",
    "    \"\"\"\n",
    "    y_true = np.array(y_true).astype(int)\n",
    "    y_score = np.array(y_score)\n",
    "\n",
    "    # Ordena pelo score\n",
    "    order = np.argsort(y_score)\n",
    "    y_score_sorted = y_score[order]\n",
    "    y_true_sorted = y_true[order]\n",
    "\n",
    "    # Conta total de positivos e negativos\n",
    "    total_pos = np.sum(y_true == 1)\n",
    "    total_neg = np.sum(y_true == 0)\n",
    "\n",
    "    # Calcula a CDF de positivos e de negativos ao longo do eixo de score\n",
    "    cum_pos = np.cumsum(y_true_sorted) / total_pos  # CDF de eventos\n",
    "    cum_neg = np.cumsum(1 - y_true_sorted) / total_neg  # CDF de não-eventos\n",
    "\n",
    "    # Diferença entre as CDFs\n",
    "    ks_values = cum_pos - cum_neg\n",
    "    ks_max = np.max(np.abs(ks_values))\n",
    "    idx_ks = np.argmax(np.abs(ks_values))\n",
    "    best_threshold = y_score_sorted[idx_ks]\n",
    "\n",
    "    # Plot das duas curvas\n",
    "    plt.figure(figsize=(8, 5))\n",
    "    plt.plot(y_score_sorted, cum_pos, label='Cumulative events (Positivos)', color='red')\n",
    "    plt.plot(y_score_sorted, cum_neg, label='Cumulative non-events (Negativos)', color='blue')\n",
    "\n",
    "    # Linha vertical no ponto de KS máximo\n",
    "    plt.vlines(x=best_threshold,\n",
    "               ymin=min(cum_pos[idx_ks], cum_neg[idx_ks]),\n",
    "               ymax=max(cum_pos[idx_ks], cum_neg[idx_ks]),\n",
    "               colors='k', linestyles='--',\n",
    "               label=f'KS={ks_max:.2%} at score={best_threshold:.2f}')\n",
    "\n",
    "    plt.xlabel('Score')\n",
    "    plt.ylabel('Cumulative Probability')\n",
    "    plt.title('Kolmogorov-Smirnov (CDF)')\n",
    "    plt.legend()\n",
    "    plt.show()\n",
    "\n",
    "    print(f\"KS = {ks_max:.4f} (ou {ks_max:.2%}) no threshold = {best_threshold:.4f}\")\n",
    "\n",
    "\n",
    "# Loop para rodar nos 3 folds\n",
    "all_fold_results = []\n",
    "n_folds = 3\n",
    "\n",
    "for i in range(n_folds):\n",
    "    print(f\"\\n===== FOLD {i+1} =====\")\n",
    "    \n",
    "    # Carregar CSVs\n",
    "    train_df = pd.read_csv(os.path.join(scaled_data_folder, f\"train_fold_{i+1}_scaled.csv\"))\n",
    "    val_df = pd.read_csv(os.path.join(scaled_data_folder, f\"val_fold_{i+1}_scaled.csv\"))\n",
    "    test_df = pd.read_csv(os.path.join(scaled_data_folder, f\"test_fold_{i+1}_scaled.csv\"))\n",
    "\n",
    "    # Separar X e y (Treino)\n",
    "    X_train = train_df.drop(columns=[target_col]).values\n",
    "    y_train = np.where(train_df[target_col] == 'Yes', 1, 0)\n",
    "\n",
    "    # Separar X e y (Validação e Teste)\n",
    "    X_val = val_df.drop(columns=[target_col]).values\n",
    "    y_val = np.where(val_df[target_col] == 'Yes', 1, 0)\n",
    "\n",
    "    X_test = test_df.drop(columns=[target_col]).values\n",
    "    y_test = np.where(test_df[target_col] == 'Yes', 1, 0)\n",
    "\n",
    "    # Oversampling no conjunto de treinamento\n",
    "    ros = RandomOverSampler(random_state=42)\n",
    "    X_train_res, y_train_res = ros.fit_resample(X_train, y_train)\n",
    "\n",
    "    # Optuna para encontrar os melhores hiperparâmetros\n",
    "    import optuna\n",
    "    def objective(trial):\n",
    "        hidden_units = (\n",
    "            trial.suggest_int(\"units_layer1\", 32, 128, step=16),\n",
    "            trial.suggest_int(\"units_layer2\", 16, 64, step=16)\n",
    "        )\n",
    "        dropout_rate = trial.suggest_float(\"dropout_rate\", 0.2, 0.5)\n",
    "        learning_rate = trial.suggest_float(\"learning_rate\", 1e-4, 1e-2, log=True)\n",
    "        \n",
    "        model = build_mlp(X_train.shape[1], hidden_units, dropout_rate, learning_rate)\n",
    "        \n",
    "        history = model.fit(\n",
    "            X_train_res, y_train_res,\n",
    "            validation_data=(X_val, y_val),\n",
    "            epochs=15, batch_size=32, verbose=0\n",
    "        )\n",
    "\n",
    "        y_val_probs = model.predict(X_val).flatten()\n",
    "        ks_stat, _ = kolmogorov_smirnov(y_val, y_val_probs)\n",
    "\n",
    "        return ks_stat\n",
    "\n",
    "    study = optuna.create_study(direction=\"maximize\")\n",
    "    study.optimize(objective, n_trials=50)\n",
    "\n",
    "    best_params = study.best_params\n",
    "    print(f\"Melhores parâmetros do Optuna: {best_params}\")\n",
    "\n",
    "    best_model = build_mlp(X_train.shape[1], \n",
    "                           (best_params[\"units_layer1\"], best_params[\"units_layer2\"]), \n",
    "                           best_params[\"dropout_rate\"], \n",
    "                           best_params[\"learning_rate\"])\n",
    "\n",
    "    history = best_model.fit(\n",
    "        X_train_res, y_train_res,\n",
    "        validation_data=(X_val, y_val),\n",
    "        epochs=50, batch_size=32, verbose=0\n",
    "    )\n",
    "\n",
    "    # Avaliação no conjunto de Teste\n",
    "    y_test_probs = best_model.predict(X_test).flatten()\n",
    "    test_metrics = evaluate_metrics(y_test, y_test_probs)\n",
    "\n",
    "    print(\"\\n-- Métricas de Teste --\")\n",
    "    print(f\"Confusion Matrix:\\n{test_metrics['cm']}\")\n",
    "    print(f\"Precision: {test_metrics['precision']:.4f} | Recall: {test_metrics['recall']:.4f} | F1: {test_metrics['f1']:.4f}\")\n",
    "    print(f\"AUC: {test_metrics['auc']:.4f} | MSE: {test_metrics['mse']:.4f} | KS: {test_metrics['ks_stat']:.4f}\")\n",
    "\n",
    "    all_fold_results.append(test_metrics)\n",
    "\n",
    "    # Plotando Curva ROC\n",
    "    fpr, tpr, _ = roc_curve(y_test, y_test_probs)\n",
    "    plt.plot(fpr, tpr, label=f\"ROC Curve (AUC={test_metrics['auc']:.4f})\")\n",
    "    plt.plot([0, 1], [0, 1], linestyle=\"--\", color=\"gray\")\n",
    "    plt.xlabel(\"False Positive Rate\")\n",
    "    plt.ylabel(\"True Positive Rate\")\n",
    "    plt.title(f\"Fold {i+1} - Curva ROC\")\n",
    "    plt.legend()\n",
    "    plt.show()\n",
    "\n",
    "    # Plotando a Curva KS (CDF)\n",
    "    plot_ks(y_test, y_test_probs)"
   ]
  }
 ],
 "metadata": {
  "kernelspec": {
   "display_name": "myenv",
   "language": "python",
   "name": "python3"
  },
  "language_info": {
   "codemirror_mode": {
    "name": "ipython",
    "version": 3
   },
   "file_extension": ".py",
   "mimetype": "text/x-python",
   "name": "python",
   "nbconvert_exporter": "python",
   "pygments_lexer": "ipython3",
   "version": "3.11.11"
  }
 },
 "nbformat": 4,
 "nbformat_minor": 2
}
